{
  "nbformat": 4,
  "nbformat_minor": 0,
  "metadata": {
    "colab": {
      "name": "Quantium_first_task.ipynb",
      "provenance": [],
      "collapsed_sections": [
        "QJ-6DDr62IfK",
        "SrWWsWyv3k9a",
        "yUh2B5VB33OR",
        "hr3AGxnL-_zZ",
        "zJZcoxlmYXHi",
        "WYHWJU2_VcvP"
      ],
      "toc_visible": true
    },
    "kernelspec": {
      "display_name": "Python 3",
      "language": "python",
      "name": "python3"
    },
    "language_info": {
      "codemirror_mode": {
        "name": "ipython",
        "version": 3
      },
      "file_extension": ".py",
      "mimetype": "text/x-python",
      "name": "python",
      "nbconvert_exporter": "python",
      "pygments_lexer": "ipython3",
      "version": "3.8.3"
    }
  },
  "cells": [
    {
      "cell_type": "markdown",
      "metadata": {
        "id": "QJ-6DDr62IfK"
      },
      "source": [
        "# ***Importing Libraries***"
      ]
    },
    {
      "cell_type": "code",
      "metadata": {
        "colab": {
          "base_uri": "https://localhost:8080/"
        },
        "id": "ws7_-jtHTacE",
        "outputId": "9b9c33e6-06d5-4650-9e1b-29325df2bbf8"
      },
      "source": [
        "# Importing files\n",
        "\n",
        "# Data wrangling and analysis\n",
        "import numpy as np\n",
        "import pandas as pd\n",
        "\n",
        "# Data visualisation\n",
        "import seaborn as sns\n",
        "import matplotlib.pyplot as plt\n",
        "import missingno\n",
        "\n",
        "# Dates\n",
        "import datetime\n",
        "from matplotlib.dates import DateFormatter\n",
        "\n",
        "# statistical analysis\n",
        "from scipy.stats import ttest_ind\n",
        "\n",
        "# Warnings \n",
        "import warnings\n",
        "warnings.filterwarnings('ignore')\n",
        "\n",
        "# Text analysis\n",
        "import re\n",
        "import nltk\n",
        "nltk.download('punkt')\n",
        "from nltk.tokenize import word_tokenize"
      ],
      "execution_count": null,
      "outputs": [
        {
          "output_type": "stream",
          "text": [
            "[nltk_data] Downloading package punkt to /root/nltk_data...\n",
            "[nltk_data]   Unzipping tokenizers/punkt.zip.\n"
          ],
          "name": "stdout"
        }
      ]
    },
    {
      "cell_type": "markdown",
      "metadata": {
        "id": "SrWWsWyv3k9a"
      },
      "source": [
        "# ***Import And Read Data***"
      ]
    },
    {
      "cell_type": "code",
      "metadata": {
        "id": "gZCX7s31WasY"
      },
      "source": [
        "transactiondata = pd.read_excel('QVI_transaction_data.xlsx')\n",
        "customerdata = pd.read_csv('customer.csv')"
      ],
      "execution_count": null,
      "outputs": []
    },
    {
      "cell_type": "markdown",
      "metadata": {
        "id": "yUh2B5VB33OR"
      },
      "source": [
        "# ***Transaction Data***"
      ]
    },
    {
      "cell_type": "code",
      "metadata": {
        "colab": {
          "base_uri": "https://localhost:8080/",
          "height": 204
        },
        "id": "CwfFVC6IXJmk",
        "outputId": "fbe6ef9e-030d-4479-ca31-c433f4dc552a"
      },
      "source": [
        "transactiondata.head()"
      ],
      "execution_count": null,
      "outputs": [
        {
          "output_type": "execute_result",
          "data": {
            "text/html": [
              "<div>\n",
              "<style scoped>\n",
              "    .dataframe tbody tr th:only-of-type {\n",
              "        vertical-align: middle;\n",
              "    }\n",
              "\n",
              "    .dataframe tbody tr th {\n",
              "        vertical-align: top;\n",
              "    }\n",
              "\n",
              "    .dataframe thead th {\n",
              "        text-align: right;\n",
              "    }\n",
              "</style>\n",
              "<table border=\"1\" class=\"dataframe\">\n",
              "  <thead>\n",
              "    <tr style=\"text-align: right;\">\n",
              "      <th></th>\n",
              "      <th>DATE</th>\n",
              "      <th>STORE_NBR</th>\n",
              "      <th>LYLTY_CARD_NBR</th>\n",
              "      <th>TXN_ID</th>\n",
              "      <th>PROD_NBR</th>\n",
              "      <th>PROD_NAME</th>\n",
              "      <th>PROD_QTY</th>\n",
              "      <th>TOT_SALES</th>\n",
              "    </tr>\n",
              "  </thead>\n",
              "  <tbody>\n",
              "    <tr>\n",
              "      <th>0</th>\n",
              "      <td>43390</td>\n",
              "      <td>1</td>\n",
              "      <td>1000</td>\n",
              "      <td>1</td>\n",
              "      <td>5</td>\n",
              "      <td>Natural Chip        Compny SeaSalt175g</td>\n",
              "      <td>2</td>\n",
              "      <td>6.0</td>\n",
              "    </tr>\n",
              "    <tr>\n",
              "      <th>1</th>\n",
              "      <td>43599</td>\n",
              "      <td>1</td>\n",
              "      <td>1307</td>\n",
              "      <td>348</td>\n",
              "      <td>66</td>\n",
              "      <td>CCs Nacho Cheese    175g</td>\n",
              "      <td>3</td>\n",
              "      <td>6.3</td>\n",
              "    </tr>\n",
              "    <tr>\n",
              "      <th>2</th>\n",
              "      <td>43605</td>\n",
              "      <td>1</td>\n",
              "      <td>1343</td>\n",
              "      <td>383</td>\n",
              "      <td>61</td>\n",
              "      <td>Smiths Crinkle Cut  Chips Chicken 170g</td>\n",
              "      <td>2</td>\n",
              "      <td>2.9</td>\n",
              "    </tr>\n",
              "    <tr>\n",
              "      <th>3</th>\n",
              "      <td>43329</td>\n",
              "      <td>2</td>\n",
              "      <td>2373</td>\n",
              "      <td>974</td>\n",
              "      <td>69</td>\n",
              "      <td>Smiths Chip Thinly  S/Cream&amp;Onion 175g</td>\n",
              "      <td>5</td>\n",
              "      <td>15.0</td>\n",
              "    </tr>\n",
              "    <tr>\n",
              "      <th>4</th>\n",
              "      <td>43330</td>\n",
              "      <td>2</td>\n",
              "      <td>2426</td>\n",
              "      <td>1038</td>\n",
              "      <td>108</td>\n",
              "      <td>Kettle Tortilla ChpsHny&amp;Jlpno Chili 150g</td>\n",
              "      <td>3</td>\n",
              "      <td>13.8</td>\n",
              "    </tr>\n",
              "  </tbody>\n",
              "</table>\n",
              "</div>"
            ],
            "text/plain": [
              "    DATE  STORE_NBR  ...  PROD_QTY  TOT_SALES\n",
              "0  43390          1  ...         2        6.0\n",
              "1  43599          1  ...         3        6.3\n",
              "2  43605          1  ...         2        2.9\n",
              "3  43329          2  ...         5       15.0\n",
              "4  43330          2  ...         3       13.8\n",
              "\n",
              "[5 rows x 8 columns]"
            ]
          },
          "metadata": {
            "tags": []
          },
          "execution_count": 3
        }
      ]
    },
    {
      "cell_type": "code",
      "metadata": {
        "colab": {
          "base_uri": "https://localhost:8080/"
        },
        "id": "XIf4XsSzYDY_",
        "outputId": "79a55091-af47-4ac3-9e3c-0968e53dae3f"
      },
      "source": [
        "transactiondata.shape"
      ],
      "execution_count": null,
      "outputs": [
        {
          "output_type": "execute_result",
          "data": {
            "text/plain": [
              "(264836, 8)"
            ]
          },
          "metadata": {
            "tags": []
          },
          "execution_count": 4
        }
      ]
    },
    {
      "cell_type": "code",
      "metadata": {
        "colab": {
          "base_uri": "https://localhost:8080/"
        },
        "id": "oOtWWoIwYHNT",
        "outputId": "54826713-4f09-410d-c18b-3e42e97462d3"
      },
      "source": [
        "transactiondata['TXN_ID'].nunique()"
      ],
      "execution_count": null,
      "outputs": [
        {
          "output_type": "execute_result",
          "data": {
            "text/plain": [
              "263127"
            ]
          },
          "metadata": {
            "tags": []
          },
          "execution_count": 5
        }
      ]
    },
    {
      "cell_type": "markdown",
      "metadata": {
        "id": "nsp1Q44i4SIv"
      },
      "source": [
        "***TXN_ID is not unique to each row. This is because there can be sales of chips with different brands in a single transaction.***"
      ]
    },
    {
      "cell_type": "code",
      "metadata": {
        "colab": {
          "base_uri": "https://localhost:8080/",
          "height": 204
        },
        "id": "OlY0V2chYgmI",
        "outputId": "cf997c12-c40a-4295-c9ac-232021d12e81"
      },
      "source": [
        "# Look for duplicated TXN_ID\n",
        "\n",
        "transactiondata[transactiondata.duplicated(['TXN_ID'])].head()"
      ],
      "execution_count": null,
      "outputs": [
        {
          "output_type": "execute_result",
          "data": {
            "text/html": [
              "<div>\n",
              "<style scoped>\n",
              "    .dataframe tbody tr th:only-of-type {\n",
              "        vertical-align: middle;\n",
              "    }\n",
              "\n",
              "    .dataframe tbody tr th {\n",
              "        vertical-align: top;\n",
              "    }\n",
              "\n",
              "    .dataframe thead th {\n",
              "        text-align: right;\n",
              "    }\n",
              "</style>\n",
              "<table border=\"1\" class=\"dataframe\">\n",
              "  <thead>\n",
              "    <tr style=\"text-align: right;\">\n",
              "      <th></th>\n",
              "      <th>DATE</th>\n",
              "      <th>STORE_NBR</th>\n",
              "      <th>LYLTY_CARD_NBR</th>\n",
              "      <th>TXN_ID</th>\n",
              "      <th>PROD_NBR</th>\n",
              "      <th>PROD_NAME</th>\n",
              "      <th>PROD_QTY</th>\n",
              "      <th>TOT_SALES</th>\n",
              "    </tr>\n",
              "  </thead>\n",
              "  <tbody>\n",
              "    <tr>\n",
              "      <th>42</th>\n",
              "      <td>43605</td>\n",
              "      <td>55</td>\n",
              "      <td>55073</td>\n",
              "      <td>48887</td>\n",
              "      <td>113</td>\n",
              "      <td>Twisties Chicken270g</td>\n",
              "      <td>1</td>\n",
              "      <td>4.6</td>\n",
              "    </tr>\n",
              "    <tr>\n",
              "      <th>377</th>\n",
              "      <td>43475</td>\n",
              "      <td>7</td>\n",
              "      <td>7364</td>\n",
              "      <td>7739</td>\n",
              "      <td>20</td>\n",
              "      <td>Doritos Cheese      Supreme 330g</td>\n",
              "      <td>2</td>\n",
              "      <td>11.4</td>\n",
              "    </tr>\n",
              "    <tr>\n",
              "      <th>419</th>\n",
              "      <td>43391</td>\n",
              "      <td>12</td>\n",
              "      <td>12301</td>\n",
              "      <td>10982</td>\n",
              "      <td>93</td>\n",
              "      <td>Doritos Corn Chip Southern Chicken 150g</td>\n",
              "      <td>2</td>\n",
              "      <td>7.8</td>\n",
              "    </tr>\n",
              "    <tr>\n",
              "      <th>476</th>\n",
              "      <td>43351</td>\n",
              "      <td>16</td>\n",
              "      <td>16427</td>\n",
              "      <td>14546</td>\n",
              "      <td>81</td>\n",
              "      <td>Pringles Original   Crisps 134g</td>\n",
              "      <td>1</td>\n",
              "      <td>3.7</td>\n",
              "    </tr>\n",
              "    <tr>\n",
              "      <th>511</th>\n",
              "      <td>43315</td>\n",
              "      <td>19</td>\n",
              "      <td>19272</td>\n",
              "      <td>16683</td>\n",
              "      <td>31</td>\n",
              "      <td>Infzns Crn Crnchers Tangy Gcamole 110g</td>\n",
              "      <td>2</td>\n",
              "      <td>7.6</td>\n",
              "    </tr>\n",
              "  </tbody>\n",
              "</table>\n",
              "</div>"
            ],
            "text/plain": [
              "      DATE  STORE_NBR  ...  PROD_QTY  TOT_SALES\n",
              "42   43605         55  ...         1        4.6\n",
              "377  43475          7  ...         2       11.4\n",
              "419  43391         12  ...         2        7.8\n",
              "476  43351         16  ...         1        3.7\n",
              "511  43315         19  ...         2        7.6\n",
              "\n",
              "[5 rows x 8 columns]"
            ]
          },
          "metadata": {
            "tags": []
          },
          "execution_count": 6
        }
      ]
    },
    {
      "cell_type": "code",
      "metadata": {
        "colab": {
          "base_uri": "https://localhost:8080/",
          "height": 111
        },
        "id": "EKfUzfJCY5VP",
        "outputId": "a144e099-8e76-49d5-9b05-d25dd75c1422"
      },
      "source": [
        "# Select any duplicated TXN_ID\n",
        "\n",
        "transactiondata.loc[transactiondata['TXN_ID'] == 7739, :]"
      ],
      "execution_count": null,
      "outputs": [
        {
          "output_type": "execute_result",
          "data": {
            "text/html": [
              "<div>\n",
              "<style scoped>\n",
              "    .dataframe tbody tr th:only-of-type {\n",
              "        vertical-align: middle;\n",
              "    }\n",
              "\n",
              "    .dataframe tbody tr th {\n",
              "        vertical-align: top;\n",
              "    }\n",
              "\n",
              "    .dataframe thead th {\n",
              "        text-align: right;\n",
              "    }\n",
              "</style>\n",
              "<table border=\"1\" class=\"dataframe\">\n",
              "  <thead>\n",
              "    <tr style=\"text-align: right;\">\n",
              "      <th></th>\n",
              "      <th>DATE</th>\n",
              "      <th>STORE_NBR</th>\n",
              "      <th>LYLTY_CARD_NBR</th>\n",
              "      <th>TXN_ID</th>\n",
              "      <th>PROD_NBR</th>\n",
              "      <th>PROD_NAME</th>\n",
              "      <th>PROD_QTY</th>\n",
              "      <th>TOT_SALES</th>\n",
              "    </tr>\n",
              "  </thead>\n",
              "  <tbody>\n",
              "    <tr>\n",
              "      <th>376</th>\n",
              "      <td>43475</td>\n",
              "      <td>7</td>\n",
              "      <td>7364</td>\n",
              "      <td>7739</td>\n",
              "      <td>50</td>\n",
              "      <td>Tostitos Lightly    Salted 175g</td>\n",
              "      <td>2</td>\n",
              "      <td>8.8</td>\n",
              "    </tr>\n",
              "    <tr>\n",
              "      <th>377</th>\n",
              "      <td>43475</td>\n",
              "      <td>7</td>\n",
              "      <td>7364</td>\n",
              "      <td>7739</td>\n",
              "      <td>20</td>\n",
              "      <td>Doritos Cheese      Supreme 330g</td>\n",
              "      <td>2</td>\n",
              "      <td>11.4</td>\n",
              "    </tr>\n",
              "  </tbody>\n",
              "</table>\n",
              "</div>"
            ],
            "text/plain": [
              "      DATE  STORE_NBR  ...  PROD_QTY  TOT_SALES\n",
              "376  43475          7  ...         2        8.8\n",
              "377  43475          7  ...         2       11.4\n",
              "\n",
              "[2 rows x 8 columns]"
            ]
          },
          "metadata": {
            "tags": []
          },
          "execution_count": 7
        }
      ]
    },
    {
      "cell_type": "code",
      "metadata": {
        "colab": {
          "base_uri": "https://localhost:8080/"
        },
        "id": "TeGKg-4_ZTTg",
        "outputId": "fa675fb4-bf81-4b4c-b779-90f17db59f6b"
      },
      "source": [
        "transactiondata.info()"
      ],
      "execution_count": null,
      "outputs": [
        {
          "output_type": "stream",
          "text": [
            "<class 'pandas.core.frame.DataFrame'>\n",
            "RangeIndex: 264836 entries, 0 to 264835\n",
            "Data columns (total 8 columns):\n",
            " #   Column          Non-Null Count   Dtype  \n",
            "---  ------          --------------   -----  \n",
            " 0   DATE            264836 non-null  int64  \n",
            " 1   STORE_NBR       264836 non-null  int64  \n",
            " 2   LYLTY_CARD_NBR  264836 non-null  int64  \n",
            " 3   TXN_ID          264836 non-null  int64  \n",
            " 4   PROD_NBR        264836 non-null  int64  \n",
            " 5   PROD_NAME       264836 non-null  object \n",
            " 6   PROD_QTY        264836 non-null  int64  \n",
            " 7   TOT_SALES       264836 non-null  float64\n",
            "dtypes: float64(1), int64(6), object(1)\n",
            "memory usage: 16.2+ MB\n"
          ],
          "name": "stdout"
        }
      ]
    },
    {
      "cell_type": "code",
      "metadata": {
        "colab": {
          "base_uri": "https://localhost:8080/",
          "height": 465
        },
        "id": "9I4f-O_uZYk3",
        "outputId": "b33406b1-2c9a-44e5-9488-e5240f397f59"
      },
      "source": [
        "# Missing values in transactiondata\n",
        "\n",
        "missingno.matrix(transactiondata)"
      ],
      "execution_count": null,
      "outputs": [
        {
          "output_type": "execute_result",
          "data": {
            "text/plain": [
              "<matplotlib.axes._subplots.AxesSubplot at 0x7fd21e99dd68>"
            ]
          },
          "metadata": {
            "tags": []
          },
          "execution_count": 9
        },
        {
          "output_type": "display_data",
          "data": {
            "image/png": "[encoded data removed]",
            "text/plain": [
              "<Figure size 1800x720 with 2 Axes>"
            ]
          },
          "metadata": {
            "tags": [],
            "needs_background": "light"
          }
        }
      ]
    },
    {
      "cell_type": "code",
      "metadata": {
        "colab": {
          "base_uri": "https://localhost:8080/"
        },
        "id": "sRphxY_7Zu3R",
        "outputId": "d1fd8b99-bda7-43f9-d7db-e329ce685ca1"
      },
      "source": [
        "# Exploring the features of each dataset one by one starting with transaction data\n",
        "\n",
        "list(transactiondata.columns)"
      ],
      "execution_count": null,
      "outputs": [
        {
          "output_type": "execute_result",
          "data": {
            "text/plain": [
              "['DATE',\n",
              " 'STORE_NBR',\n",
              " 'LYLTY_CARD_NBR',\n",
              " 'TXN_ID',\n",
              " 'PROD_NBR',\n",
              " 'PROD_NAME',\n",
              " 'PROD_QTY',\n",
              " 'TOT_SALES']"
            ]
          },
          "metadata": {
            "tags": []
          },
          "execution_count": 10
        }
      ]
    },
    {
      "cell_type": "code",
      "metadata": {
        "colab": {
          "base_uri": "https://localhost:8080/"
        },
        "id": "ASLjCJ0LaK23",
        "outputId": "1191bd66-5174-4b57-dc8e-4f57094ed1fc"
      },
      "source": [
        "transactiondata['DATE'].head()"
      ],
      "execution_count": null,
      "outputs": [
        {
          "output_type": "execute_result",
          "data": {
            "text/plain": [
              "0    43390\n",
              "1    43599\n",
              "2    43605\n",
              "3    43329\n",
              "4    43330\n",
              "Name: DATE, dtype: int64"
            ]
          },
          "metadata": {
            "tags": []
          },
          "execution_count": 11
        }
      ]
    },
    {
      "cell_type": "code",
      "metadata": {
        "id": "0_UHLXWlaDgp"
      },
      "source": [
        "# date is not in the right format\n",
        "\n",
        "#function to convert excel integer into yyyy-mm-dd format\n",
        "\n",
        "def xldateconverter(xldate):\n",
        "  starting_date = datetime.datetime(1900,1,1)\n",
        "  if(xldate < 60):\n",
        "    delta_days = datetime.timedelta(days = (xldate - 1))\n",
        "  else:\n",
        "    delta_days = datetime.timedelta(days = (xldate - 2))\n",
        "  converted_days = starting_date + delta_days\n",
        "  return converted_days"
      ],
      "execution_count": null,
      "outputs": []
    },
    {
      "cell_type": "code",
      "metadata": {
        "id": "4KFTNxPLcRcV"
      },
      "source": [
        "# Apply function to Date feature in transactionData dataset\n",
        "\n",
        "transactiondata['DATE'] = transactiondata['DATE'].apply(xldateconverter)"
      ],
      "execution_count": null,
      "outputs": []
    },
    {
      "cell_type": "code",
      "metadata": {
        "colab": {
          "base_uri": "https://localhost:8080/"
        },
        "id": "T2jSieA7dDyO",
        "outputId": "993e13fb-b8da-4ea2-accf-e96802cb148e"
      },
      "source": [
        "# Check the first 5 rows of the new date feature\n",
        "\n",
        "transactiondata['DATE'].head()"
      ],
      "execution_count": null,
      "outputs": [
        {
          "output_type": "execute_result",
          "data": {
            "text/plain": [
              "0   2018-10-17\n",
              "1   2019-05-14\n",
              "2   2019-05-20\n",
              "3   2018-08-17\n",
              "4   2018-08-18\n",
              "Name: DATE, dtype: datetime64[ns]"
            ]
          },
          "metadata": {
            "tags": []
          },
          "execution_count": 14
        }
      ]
    },
    {
      "cell_type": "code",
      "metadata": {
        "colab": {
          "base_uri": "https://localhost:8080/",
          "height": 204
        },
        "id": "oPzZAi-hdI4I",
        "outputId": "5dafce78-fac5-455e-9e1e-da25b69e9b4b"
      },
      "source": [
        "# Date is now in the right format\n",
        "\n",
        "transactiondata.head()"
      ],
      "execution_count": null,
      "outputs": [
        {
          "output_type": "execute_result",
          "data": {
            "text/html": [
              "<div>\n",
              "<style scoped>\n",
              "    .dataframe tbody tr th:only-of-type {\n",
              "        vertical-align: middle;\n",
              "    }\n",
              "\n",
              "    .dataframe tbody tr th {\n",
              "        vertical-align: top;\n",
              "    }\n",
              "\n",
              "    .dataframe thead th {\n",
              "        text-align: right;\n",
              "    }\n",
              "</style>\n",
              "<table border=\"1\" class=\"dataframe\">\n",
              "  <thead>\n",
              "    <tr style=\"text-align: right;\">\n",
              "      <th></th>\n",
              "      <th>DATE</th>\n",
              "      <th>STORE_NBR</th>\n",
              "      <th>LYLTY_CARD_NBR</th>\n",
              "      <th>TXN_ID</th>\n",
              "      <th>PROD_NBR</th>\n",
              "      <th>PROD_NAME</th>\n",
              "      <th>PROD_QTY</th>\n",
              "      <th>TOT_SALES</th>\n",
              "    </tr>\n",
              "  </thead>\n",
              "  <tbody>\n",
              "    <tr>\n",
              "      <th>0</th>\n",
              "      <td>2018-10-17</td>\n",
              "      <td>1</td>\n",
              "      <td>1000</td>\n",
              "      <td>1</td>\n",
              "      <td>5</td>\n",
              "      <td>Natural Chip        Compny SeaSalt175g</td>\n",
              "      <td>2</td>\n",
              "      <td>6.0</td>\n",
              "    </tr>\n",
              "    <tr>\n",
              "      <th>1</th>\n",
              "      <td>2019-05-14</td>\n",
              "      <td>1</td>\n",
              "      <td>1307</td>\n",
              "      <td>348</td>\n",
              "      <td>66</td>\n",
              "      <td>CCs Nacho Cheese    175g</td>\n",
              "      <td>3</td>\n",
              "      <td>6.3</td>\n",
              "    </tr>\n",
              "    <tr>\n",
              "      <th>2</th>\n",
              "      <td>2019-05-20</td>\n",
              "      <td>1</td>\n",
              "      <td>1343</td>\n",
              "      <td>383</td>\n",
              "      <td>61</td>\n",
              "      <td>Smiths Crinkle Cut  Chips Chicken 170g</td>\n",
              "      <td>2</td>\n",
              "      <td>2.9</td>\n",
              "    </tr>\n",
              "    <tr>\n",
              "      <th>3</th>\n",
              "      <td>2018-08-17</td>\n",
              "      <td>2</td>\n",
              "      <td>2373</td>\n",
              "      <td>974</td>\n",
              "      <td>69</td>\n",
              "      <td>Smiths Chip Thinly  S/Cream&amp;Onion 175g</td>\n",
              "      <td>5</td>\n",
              "      <td>15.0</td>\n",
              "    </tr>\n",
              "    <tr>\n",
              "      <th>4</th>\n",
              "      <td>2018-08-18</td>\n",
              "      <td>2</td>\n",
              "      <td>2426</td>\n",
              "      <td>1038</td>\n",
              "      <td>108</td>\n",
              "      <td>Kettle Tortilla ChpsHny&amp;Jlpno Chili 150g</td>\n",
              "      <td>3</td>\n",
              "      <td>13.8</td>\n",
              "    </tr>\n",
              "  </tbody>\n",
              "</table>\n",
              "</div>"
            ],
            "text/plain": [
              "        DATE  STORE_NBR  ...  PROD_QTY  TOT_SALES\n",
              "0 2018-10-17          1  ...         2        6.0\n",
              "1 2019-05-14          1  ...         3        6.3\n",
              "2 2019-05-20          1  ...         2        2.9\n",
              "3 2018-08-17          2  ...         5       15.0\n",
              "4 2018-08-18          2  ...         3       13.8\n",
              "\n",
              "[5 rows x 8 columns]"
            ]
          },
          "metadata": {
            "tags": []
          },
          "execution_count": 15
        }
      ]
    },
    {
      "cell_type": "code",
      "metadata": {
        "colab": {
          "base_uri": "https://localhost:8080/"
        },
        "id": "V81X2JnCdMEY",
        "outputId": "0e275011-ae16-43dd-ff18-3d3c8a8613b9"
      },
      "source": [
        "# First 5 rows of PROD_NAME\n",
        "\n",
        "transactiondata['PROD_NAME'].head()"
      ],
      "execution_count": null,
      "outputs": [
        {
          "output_type": "execute_result",
          "data": {
            "text/plain": [
              "0      Natural Chip        Compny SeaSalt175g\n",
              "1                    CCs Nacho Cheese    175g\n",
              "2      Smiths Crinkle Cut  Chips Chicken 170g\n",
              "3      Smiths Chip Thinly  S/Cream&Onion 175g\n",
              "4    Kettle Tortilla ChpsHny&Jlpno Chili 150g\n",
              "Name: PROD_NAME, dtype: object"
            ]
          },
          "metadata": {
            "tags": []
          },
          "execution_count": 16
        }
      ]
    },
    {
      "cell_type": "code",
      "metadata": {
        "colab": {
          "base_uri": "https://localhost:8080/",
          "height": 289
        },
        "id": "BJo6OYiMzZFy",
        "outputId": "93eb9c2d-1999-45ca-d114-46a59c19c3c3"
      },
      "source": [
        "# Extracting weights from product name\n",
        "\n",
        "transactiondata['PACK_SIZE'] = transactiondata['PROD_NAME'].str.extract(\"(\\d+)\")\n",
        "transactiondata['PACK_SIZE'] = pd.to_numeric(transactiondata['PACK_SIZE'])\n",
        "transactiondata.head()"
      ],
      "execution_count": null,
      "outputs": [
        {
          "output_type": "execute_result",
          "data": {
            "text/html": [
              "<div>\n",
              "<style scoped>\n",
              "    .dataframe tbody tr th:only-of-type {\n",
              "        vertical-align: middle;\n",
              "    }\n",
              "\n",
              "    .dataframe tbody tr th {\n",
              "        vertical-align: top;\n",
              "    }\n",
              "\n",
              "    .dataframe thead th {\n",
              "        text-align: right;\n",
              "    }\n",
              "</style>\n",
              "<table border=\"1\" class=\"dataframe\">\n",
              "  <thead>\n",
              "    <tr style=\"text-align: right;\">\n",
              "      <th></th>\n",
              "      <th>DATE</th>\n",
              "      <th>STORE_NBR</th>\n",
              "      <th>LYLTY_CARD_NBR</th>\n",
              "      <th>TXN_ID</th>\n",
              "      <th>PROD_NBR</th>\n",
              "      <th>PROD_NAME</th>\n",
              "      <th>PROD_QTY</th>\n",
              "      <th>TOT_SALES</th>\n",
              "      <th>PACK_SIZE</th>\n",
              "    </tr>\n",
              "  </thead>\n",
              "  <tbody>\n",
              "    <tr>\n",
              "      <th>0</th>\n",
              "      <td>2018-10-17</td>\n",
              "      <td>1</td>\n",
              "      <td>1000</td>\n",
              "      <td>1</td>\n",
              "      <td>5</td>\n",
              "      <td>Natural Chip        Compny SeaSalt175g</td>\n",
              "      <td>2</td>\n",
              "      <td>6.0</td>\n",
              "      <td>175</td>\n",
              "    </tr>\n",
              "    <tr>\n",
              "      <th>1</th>\n",
              "      <td>2019-05-14</td>\n",
              "      <td>1</td>\n",
              "      <td>1307</td>\n",
              "      <td>348</td>\n",
              "      <td>66</td>\n",
              "      <td>CCs Nacho Cheese    175g</td>\n",
              "      <td>3</td>\n",
              "      <td>6.3</td>\n",
              "      <td>175</td>\n",
              "    </tr>\n",
              "    <tr>\n",
              "      <th>2</th>\n",
              "      <td>2019-05-20</td>\n",
              "      <td>1</td>\n",
              "      <td>1343</td>\n",
              "      <td>383</td>\n",
              "      <td>61</td>\n",
              "      <td>Smiths Crinkle Cut  Chips Chicken 170g</td>\n",
              "      <td>2</td>\n",
              "      <td>2.9</td>\n",
              "      <td>170</td>\n",
              "    </tr>\n",
              "    <tr>\n",
              "      <th>3</th>\n",
              "      <td>2018-08-17</td>\n",
              "      <td>2</td>\n",
              "      <td>2373</td>\n",
              "      <td>974</td>\n",
              "      <td>69</td>\n",
              "      <td>Smiths Chip Thinly  S/Cream&amp;Onion 175g</td>\n",
              "      <td>5</td>\n",
              "      <td>15.0</td>\n",
              "      <td>175</td>\n",
              "    </tr>\n",
              "    <tr>\n",
              "      <th>4</th>\n",
              "      <td>2018-08-18</td>\n",
              "      <td>2</td>\n",
              "      <td>2426</td>\n",
              "      <td>1038</td>\n",
              "      <td>108</td>\n",
              "      <td>Kettle Tortilla ChpsHny&amp;Jlpno Chili 150g</td>\n",
              "      <td>3</td>\n",
              "      <td>13.8</td>\n",
              "      <td>150</td>\n",
              "    </tr>\n",
              "  </tbody>\n",
              "</table>\n",
              "</div>"
            ],
            "text/plain": [
              "        DATE  STORE_NBR  LYLTY_CARD_NBR  ...  PROD_QTY  TOT_SALES PACK_SIZE\n",
              "0 2018-10-17          1            1000  ...         2        6.0       175\n",
              "1 2019-05-14          1            1307  ...         3        6.3       175\n",
              "2 2019-05-20          1            1343  ...         2        2.9       170\n",
              "3 2018-08-17          2            2373  ...         5       15.0       175\n",
              "4 2018-08-18          2            2426  ...         3       13.8       150\n",
              "\n",
              "[5 rows x 9 columns]"
            ]
          },
          "metadata": {
            "tags": []
          },
          "execution_count": 17
        }
      ]
    },
    {
      "cell_type": "code",
      "metadata": {
        "id": "k-LihsUD0zru"
      },
      "source": [
        "# creating function for text cleaning of PROD_NAME\n",
        "\n",
        "def clean_text(text):\n",
        "  text = re.sub('[&/]',' ',text)\n",
        "  text = re.sub('\\d\\w*', ' ',text)\n",
        "  return text\n",
        "\n",
        "# Applying thet text cleaning function to PROD_NAME\n",
        "\n",
        "transactiondata['PROD_NAME'] = transactiondata['PROD_NAME'].apply(clean_text)"
      ],
      "execution_count": null,
      "outputs": []
    },
    {
      "cell_type": "code",
      "metadata": {
        "colab": {
          "base_uri": "https://localhost:8080/",
          "height": 204
        },
        "id": "qZvz0tLH6Jpf",
        "outputId": "f8a3f4ae-7e6f-43ef-f606-5ace3517feca"
      },
      "source": [
        "transactiondata.head()"
      ],
      "execution_count": null,
      "outputs": [
        {
          "output_type": "execute_result",
          "data": {
            "text/html": [
              "<div>\n",
              "<style scoped>\n",
              "    .dataframe tbody tr th:only-of-type {\n",
              "        vertical-align: middle;\n",
              "    }\n",
              "\n",
              "    .dataframe tbody tr th {\n",
              "        vertical-align: top;\n",
              "    }\n",
              "\n",
              "    .dataframe thead th {\n",
              "        text-align: right;\n",
              "    }\n",
              "</style>\n",
              "<table border=\"1\" class=\"dataframe\">\n",
              "  <thead>\n",
              "    <tr style=\"text-align: right;\">\n",
              "      <th></th>\n",
              "      <th>DATE</th>\n",
              "      <th>STORE_NBR</th>\n",
              "      <th>LYLTY_CARD_NBR</th>\n",
              "      <th>TXN_ID</th>\n",
              "      <th>PROD_NBR</th>\n",
              "      <th>PROD_NAME</th>\n",
              "      <th>PROD_QTY</th>\n",
              "      <th>TOT_SALES</th>\n",
              "      <th>PACK_SIZE</th>\n",
              "    </tr>\n",
              "  </thead>\n",
              "  <tbody>\n",
              "    <tr>\n",
              "      <th>0</th>\n",
              "      <td>2018-10-17</td>\n",
              "      <td>1</td>\n",
              "      <td>1000</td>\n",
              "      <td>1</td>\n",
              "      <td>5</td>\n",
              "      <td>Natural Chip        Compny SeaSalt</td>\n",
              "      <td>2</td>\n",
              "      <td>6.0</td>\n",
              "      <td>175</td>\n",
              "    </tr>\n",
              "    <tr>\n",
              "      <th>1</th>\n",
              "      <td>2019-05-14</td>\n",
              "      <td>1</td>\n",
              "      <td>1307</td>\n",
              "      <td>348</td>\n",
              "      <td>66</td>\n",
              "      <td>CCs Nacho Cheese</td>\n",
              "      <td>3</td>\n",
              "      <td>6.3</td>\n",
              "      <td>175</td>\n",
              "    </tr>\n",
              "    <tr>\n",
              "      <th>2</th>\n",
              "      <td>2019-05-20</td>\n",
              "      <td>1</td>\n",
              "      <td>1343</td>\n",
              "      <td>383</td>\n",
              "      <td>61</td>\n",
              "      <td>Smiths Crinkle Cut  Chips Chicken</td>\n",
              "      <td>2</td>\n",
              "      <td>2.9</td>\n",
              "      <td>170</td>\n",
              "    </tr>\n",
              "    <tr>\n",
              "      <th>3</th>\n",
              "      <td>2018-08-17</td>\n",
              "      <td>2</td>\n",
              "      <td>2373</td>\n",
              "      <td>974</td>\n",
              "      <td>69</td>\n",
              "      <td>Smiths Chip Thinly  S Cream Onion</td>\n",
              "      <td>5</td>\n",
              "      <td>15.0</td>\n",
              "      <td>175</td>\n",
              "    </tr>\n",
              "    <tr>\n",
              "      <th>4</th>\n",
              "      <td>2018-08-18</td>\n",
              "      <td>2</td>\n",
              "      <td>2426</td>\n",
              "      <td>1038</td>\n",
              "      <td>108</td>\n",
              "      <td>Kettle Tortilla ChpsHny Jlpno Chili</td>\n",
              "      <td>3</td>\n",
              "      <td>13.8</td>\n",
              "      <td>150</td>\n",
              "    </tr>\n",
              "  </tbody>\n",
              "</table>\n",
              "</div>"
            ],
            "text/plain": [
              "        DATE  STORE_NBR  LYLTY_CARD_NBR  ...  PROD_QTY  TOT_SALES PACK_SIZE\n",
              "0 2018-10-17          1            1000  ...         2        6.0       175\n",
              "1 2019-05-14          1            1307  ...         3        6.3       175\n",
              "2 2019-05-20          1            1343  ...         2        2.9       170\n",
              "3 2018-08-17          2            2373  ...         5       15.0       175\n",
              "4 2018-08-18          2            2426  ...         3       13.8       150\n",
              "\n",
              "[5 rows x 9 columns]"
            ]
          },
          "metadata": {
            "tags": []
          },
          "execution_count": 20
        }
      ]
    },
    {
      "cell_type": "code",
      "metadata": {
        "colab": {
          "base_uri": "https://localhost:8080/"
        },
        "id": "FLlRQfPUZkVg",
        "outputId": "da66440f-4210-428a-e703-4b29868d1f7f"
      },
      "source": [
        "# Value counts of PROD_QTY\n",
        "\n",
        "transactiondata['PROD_QTY'].value_counts()"
      ],
      "execution_count": null,
      "outputs": [
        {
          "output_type": "execute_result",
          "data": {
            "text/plain": [
              "2      236039\n",
              "1       27518\n",
              "5         450\n",
              "3         430\n",
              "4         397\n",
              "200         2\n",
              "Name: PROD_QTY, dtype: int64"
            ]
          },
          "metadata": {
            "tags": []
          },
          "execution_count": 21
        }
      ]
    },
    {
      "cell_type": "markdown",
      "metadata": {
        "id": "zCfmUpVZ7oCU"
      },
      "source": [
        "***We have two occurences of 200 in the dataset. This seems odd so let's explore further.***"
      ]
    },
    {
      "cell_type": "code",
      "metadata": {
        "colab": {
          "base_uri": "https://localhost:8080/",
          "height": 111
        },
        "id": "lRHOzge-ae_j",
        "outputId": "c796fbe7-6f15-4f66-f807-0dd7f0a9c558"
      },
      "source": [
        "transactiondata.loc[transactiondata['PROD_QTY'] == 200 , :]"
      ],
      "execution_count": null,
      "outputs": [
        {
          "output_type": "execute_result",
          "data": {
            "text/html": [
              "<div>\n",
              "<style scoped>\n",
              "    .dataframe tbody tr th:only-of-type {\n",
              "        vertical-align: middle;\n",
              "    }\n",
              "\n",
              "    .dataframe tbody tr th {\n",
              "        vertical-align: top;\n",
              "    }\n",
              "\n",
              "    .dataframe thead th {\n",
              "        text-align: right;\n",
              "    }\n",
              "</style>\n",
              "<table border=\"1\" class=\"dataframe\">\n",
              "  <thead>\n",
              "    <tr style=\"text-align: right;\">\n",
              "      <th></th>\n",
              "      <th>DATE</th>\n",
              "      <th>STORE_NBR</th>\n",
              "      <th>LYLTY_CARD_NBR</th>\n",
              "      <th>TXN_ID</th>\n",
              "      <th>PROD_NBR</th>\n",
              "      <th>PROD_NAME</th>\n",
              "      <th>PROD_QTY</th>\n",
              "      <th>TOT_SALES</th>\n",
              "      <th>PACK_SIZE</th>\n",
              "    </tr>\n",
              "  </thead>\n",
              "  <tbody>\n",
              "    <tr>\n",
              "      <th>69762</th>\n",
              "      <td>2018-08-19</td>\n",
              "      <td>226</td>\n",
              "      <td>226000</td>\n",
              "      <td>226201</td>\n",
              "      <td>4</td>\n",
              "      <td>Dorito Corn Chp     Supreme</td>\n",
              "      <td>200</td>\n",
              "      <td>650.0</td>\n",
              "      <td>380</td>\n",
              "    </tr>\n",
              "    <tr>\n",
              "      <th>69763</th>\n",
              "      <td>2019-05-20</td>\n",
              "      <td>226</td>\n",
              "      <td>226000</td>\n",
              "      <td>226210</td>\n",
              "      <td>4</td>\n",
              "      <td>Dorito Corn Chp     Supreme</td>\n",
              "      <td>200</td>\n",
              "      <td>650.0</td>\n",
              "      <td>380</td>\n",
              "    </tr>\n",
              "  </tbody>\n",
              "</table>\n",
              "</div>"
            ],
            "text/plain": [
              "            DATE  STORE_NBR  LYLTY_CARD_NBR  ...  PROD_QTY  TOT_SALES PACK_SIZE\n",
              "69762 2018-08-19        226          226000  ...       200      650.0       380\n",
              "69763 2019-05-20        226          226000  ...       200      650.0       380\n",
              "\n",
              "[2 rows x 9 columns]"
            ]
          },
          "metadata": {
            "tags": []
          },
          "execution_count": 22
        }
      ]
    },
    {
      "cell_type": "markdown",
      "metadata": {
        "id": "t6Zu2uIk8DIM"
      },
      "source": [
        "***Both these transactions have been made by the same person at the same store. Let's see all the transactions this person has made by tracking his loyalty card number.***"
      ]
    },
    {
      "cell_type": "code",
      "metadata": {
        "colab": {
          "base_uri": "https://localhost:8080/",
          "height": 111
        },
        "id": "Aait320_cJiE",
        "outputId": "80de2b03-725c-4e75-d5ed-94aa4bdc482b"
      },
      "source": [
        "transactiondata.loc[transactiondata['LYLTY_CARD_NBR'] == 226000, :]"
      ],
      "execution_count": null,
      "outputs": [
        {
          "output_type": "execute_result",
          "data": {
            "text/html": [
              "<div>\n",
              "<style scoped>\n",
              "    .dataframe tbody tr th:only-of-type {\n",
              "        vertical-align: middle;\n",
              "    }\n",
              "\n",
              "    .dataframe tbody tr th {\n",
              "        vertical-align: top;\n",
              "    }\n",
              "\n",
              "    .dataframe thead th {\n",
              "        text-align: right;\n",
              "    }\n",
              "</style>\n",
              "<table border=\"1\" class=\"dataframe\">\n",
              "  <thead>\n",
              "    <tr style=\"text-align: right;\">\n",
              "      <th></th>\n",
              "      <th>DATE</th>\n",
              "      <th>STORE_NBR</th>\n",
              "      <th>LYLTY_CARD_NBR</th>\n",
              "      <th>TXN_ID</th>\n",
              "      <th>PROD_NBR</th>\n",
              "      <th>PROD_NAME</th>\n",
              "      <th>PROD_QTY</th>\n",
              "      <th>TOT_SALES</th>\n",
              "      <th>PACK_SIZE</th>\n",
              "    </tr>\n",
              "  </thead>\n",
              "  <tbody>\n",
              "    <tr>\n",
              "      <th>69762</th>\n",
              "      <td>2018-08-19</td>\n",
              "      <td>226</td>\n",
              "      <td>226000</td>\n",
              "      <td>226201</td>\n",
              "      <td>4</td>\n",
              "      <td>Dorito Corn Chp     Supreme</td>\n",
              "      <td>200</td>\n",
              "      <td>650.0</td>\n",
              "      <td>380</td>\n",
              "    </tr>\n",
              "    <tr>\n",
              "      <th>69763</th>\n",
              "      <td>2019-05-20</td>\n",
              "      <td>226</td>\n",
              "      <td>226000</td>\n",
              "      <td>226210</td>\n",
              "      <td>4</td>\n",
              "      <td>Dorito Corn Chp     Supreme</td>\n",
              "      <td>200</td>\n",
              "      <td>650.0</td>\n",
              "      <td>380</td>\n",
              "    </tr>\n",
              "  </tbody>\n",
              "</table>\n",
              "</div>"
            ],
            "text/plain": [
              "            DATE  STORE_NBR  LYLTY_CARD_NBR  ...  PROD_QTY  TOT_SALES PACK_SIZE\n",
              "69762 2018-08-19        226          226000  ...       200      650.0       380\n",
              "69763 2019-05-20        226          226000  ...       200      650.0       380\n",
              "\n",
              "[2 rows x 9 columns]"
            ]
          },
          "metadata": {
            "tags": []
          },
          "execution_count": 23
        }
      ]
    },
    {
      "cell_type": "markdown",
      "metadata": {
        "id": "ZLsWSGBa8Nl_"
      },
      "source": [
        "***This customer has only made two transactions over the entire year so unlikely to be a retail customer. He/she is most likely purchasing for commercial purposes so it is safe for us to drop these this customer from both 'transactionData' and 'customerData' dataset.***"
      ]
    },
    {
      "cell_type": "code",
      "metadata": {
        "id": "bb1bM3EgchXU"
      },
      "source": [
        "transactiondata.drop(transactiondata.index[transactiondata['LYLTY_CARD_NBR'] == 226000], inplace=True)\n",
        "customerdata.drop(customerdata.index[customerdata['LYLTY_CARD_NBR'] == 226000], inplace=True)"
      ],
      "execution_count": null,
      "outputs": []
    },
    {
      "cell_type": "code",
      "metadata": {
        "colab": {
          "base_uri": "https://localhost:8080/",
          "height": 49
        },
        "id": "QmHsNpSjdYua",
        "outputId": "32f744a4-8de1-4a8b-8117-f3816ed6ced1"
      },
      "source": [
        "# Make sure it has been dropped \n",
        "\n",
        "transactiondata.loc[transactiondata['LYLTY_CARD_NBR'] == 226000, :]"
      ],
      "execution_count": null,
      "outputs": [
        {
          "output_type": "execute_result",
          "data": {
            "text/html": [
              "<div>\n",
              "<style scoped>\n",
              "    .dataframe tbody tr th:only-of-type {\n",
              "        vertical-align: middle;\n",
              "    }\n",
              "\n",
              "    .dataframe tbody tr th {\n",
              "        vertical-align: top;\n",
              "    }\n",
              "\n",
              "    .dataframe thead th {\n",
              "        text-align: right;\n",
              "    }\n",
              "</style>\n",
              "<table border=\"1\" class=\"dataframe\">\n",
              "  <thead>\n",
              "    <tr style=\"text-align: right;\">\n",
              "      <th></th>\n",
              "      <th>DATE</th>\n",
              "      <th>STORE_NBR</th>\n",
              "      <th>LYLTY_CARD_NBR</th>\n",
              "      <th>TXN_ID</th>\n",
              "      <th>PROD_NBR</th>\n",
              "      <th>PROD_NAME</th>\n",
              "      <th>PROD_QTY</th>\n",
              "      <th>TOT_SALES</th>\n",
              "      <th>PACK_SIZE</th>\n",
              "    </tr>\n",
              "  </thead>\n",
              "  <tbody>\n",
              "  </tbody>\n",
              "</table>\n",
              "</div>"
            ],
            "text/plain": [
              "Empty DataFrame\n",
              "Columns: [DATE, STORE_NBR, LYLTY_CARD_NBR, TXN_ID, PROD_NBR, PROD_NAME, PROD_QTY, TOT_SALES, PACK_SIZE]\n",
              "Index: []"
            ]
          },
          "metadata": {
            "tags": []
          },
          "execution_count": 25
        }
      ]
    },
    {
      "cell_type": "code",
      "metadata": {
        "colab": {
          "base_uri": "https://localhost:8080/"
        },
        "id": "P3dO8WP7ddbs",
        "outputId": "0b05ae3d-3e30-4c57-d0e1-c3a8dfd00ae8"
      },
      "source": [
        "# Now let's examine the number of transactions over time to see if there are any obvious data issues e.g. missing data\n",
        "\n",
        "transactiondata['DATE'].nunique()"
      ],
      "execution_count": null,
      "outputs": [
        {
          "output_type": "execute_result",
          "data": {
            "text/plain": [
              "364"
            ]
          },
          "metadata": {
            "tags": []
          },
          "execution_count": 26
        }
      ]
    },
    {
      "cell_type": "code",
      "metadata": {
        "colab": {
          "base_uri": "https://localhost:8080/"
        },
        "id": "0avlxncPgllV",
        "outputId": "5613b2af-b586-4e22-fe05-89107c474ecb"
      },
      "source": [
        "# Look for the missing date\n",
        "\n",
        "pd.date_range(start= '2018-07-01' , end= '2019-06-30').difference(transactiondata['DATE'])"
      ],
      "execution_count": null,
      "outputs": [
        {
          "output_type": "execute_result",
          "data": {
            "text/plain": [
              "DatetimeIndex(['2018-12-25'], dtype='datetime64[ns]', freq=None)"
            ]
          },
          "metadata": {
            "tags": []
          },
          "execution_count": 28
        }
      ]
    },
    {
      "cell_type": "markdown",
      "metadata": {
        "id": "BSZZP3Aq8wCu"
      },
      "source": [
        "***We have a missing date on Christmas Day. This makes sense because most retail stores are closed that day.***"
      ]
    },
    {
      "cell_type": "code",
      "metadata": {
        "colab": {
          "base_uri": "https://localhost:8080/",
          "height": 235
        },
        "id": "BSLDeuQNhC0d",
        "outputId": "72967ca5-e931-41a1-a4d0-065668d9ef2d"
      },
      "source": [
        "# Create a new dataframe which contains the total sale for each date\n",
        "\n",
        "a = pd.pivot_table(transactiondata, values='TOT_SALES', index= 'DATE', aggfunc='sum')\n",
        "a.head()"
      ],
      "execution_count": null,
      "outputs": [
        {
          "output_type": "execute_result",
          "data": {
            "text/html": [
              "<div>\n",
              "<style scoped>\n",
              "    .dataframe tbody tr th:only-of-type {\n",
              "        vertical-align: middle;\n",
              "    }\n",
              "\n",
              "    .dataframe tbody tr th {\n",
              "        vertical-align: top;\n",
              "    }\n",
              "\n",
              "    .dataframe thead th {\n",
              "        text-align: right;\n",
              "    }\n",
              "</style>\n",
              "<table border=\"1\" class=\"dataframe\">\n",
              "  <thead>\n",
              "    <tr style=\"text-align: right;\">\n",
              "      <th></th>\n",
              "      <th>TOT_SALES</th>\n",
              "    </tr>\n",
              "    <tr>\n",
              "      <th>DATE</th>\n",
              "      <th></th>\n",
              "    </tr>\n",
              "  </thead>\n",
              "  <tbody>\n",
              "    <tr>\n",
              "      <th>2018-07-01</th>\n",
              "      <td>5372.2</td>\n",
              "    </tr>\n",
              "    <tr>\n",
              "      <th>2018-07-02</th>\n",
              "      <td>5315.4</td>\n",
              "    </tr>\n",
              "    <tr>\n",
              "      <th>2018-07-03</th>\n",
              "      <td>5321.8</td>\n",
              "    </tr>\n",
              "    <tr>\n",
              "      <th>2018-07-04</th>\n",
              "      <td>5309.9</td>\n",
              "    </tr>\n",
              "    <tr>\n",
              "      <th>2018-07-05</th>\n",
              "      <td>5080.9</td>\n",
              "    </tr>\n",
              "  </tbody>\n",
              "</table>\n",
              "</div>"
            ],
            "text/plain": [
              "            TOT_SALES\n",
              "DATE                 \n",
              "2018-07-01     5372.2\n",
              "2018-07-02     5315.4\n",
              "2018-07-03     5321.8\n",
              "2018-07-04     5309.9\n",
              "2018-07-05     5080.9"
            ]
          },
          "metadata": {
            "tags": []
          },
          "execution_count": 29
        }
      ]
    },
    {
      "cell_type": "code",
      "metadata": {
        "id": "_wpFRaUUhry0",
        "colab": {
          "base_uri": "https://localhost:8080/"
        },
        "outputId": "54c178d7-956d-444a-87f4-fd56795b6bf1"
      },
      "source": [
        "b = pd.DataFrame(index = pd.date_range(start= '2018-07-01', end='2019-06-30'))\n",
        "b['TOT_SALES'] = 0\n",
        "len(b)"
      ],
      "execution_count": null,
      "outputs": [
        {
          "output_type": "execute_result",
          "data": {
            "text/plain": [
              "365"
            ]
          },
          "metadata": {
            "tags": []
          },
          "execution_count": 30
        }
      ]
    },
    {
      "cell_type": "code",
      "metadata": {
        "id": "W9OiNHJwio9y"
      },
      "source": [
        "c = a+b\n",
        "c.fillna(0, inplace = True)"
      ],
      "execution_count": null,
      "outputs": []
    },
    {
      "cell_type": "code",
      "metadata": {
        "id": "yH6BaJjljmcW",
        "colab": {
          "base_uri": "https://localhost:8080/",
          "height": 204
        },
        "outputId": "e2f4832c-ac6f-4f6b-c3f7-caac45eb1dff"
      },
      "source": [
        "c.head()"
      ],
      "execution_count": null,
      "outputs": [
        {
          "output_type": "execute_result",
          "data": {
            "text/html": [
              "<div>\n",
              "<style scoped>\n",
              "    .dataframe tbody tr th:only-of-type {\n",
              "        vertical-align: middle;\n",
              "    }\n",
              "\n",
              "    .dataframe tbody tr th {\n",
              "        vertical-align: top;\n",
              "    }\n",
              "\n",
              "    .dataframe thead th {\n",
              "        text-align: right;\n",
              "    }\n",
              "</style>\n",
              "<table border=\"1\" class=\"dataframe\">\n",
              "  <thead>\n",
              "    <tr style=\"text-align: right;\">\n",
              "      <th></th>\n",
              "      <th>TOT_SALES</th>\n",
              "    </tr>\n",
              "  </thead>\n",
              "  <tbody>\n",
              "    <tr>\n",
              "      <th>2018-07-01</th>\n",
              "      <td>5372.2</td>\n",
              "    </tr>\n",
              "    <tr>\n",
              "      <th>2018-07-02</th>\n",
              "      <td>5315.4</td>\n",
              "    </tr>\n",
              "    <tr>\n",
              "      <th>2018-07-03</th>\n",
              "      <td>5321.8</td>\n",
              "    </tr>\n",
              "    <tr>\n",
              "      <th>2018-07-04</th>\n",
              "      <td>5309.9</td>\n",
              "    </tr>\n",
              "    <tr>\n",
              "      <th>2018-07-05</th>\n",
              "      <td>5080.9</td>\n",
              "    </tr>\n",
              "  </tbody>\n",
              "</table>\n",
              "</div>"
            ],
            "text/plain": [
              "            TOT_SALES\n",
              "2018-07-01     5372.2\n",
              "2018-07-02     5315.4\n",
              "2018-07-03     5321.8\n",
              "2018-07-04     5309.9\n",
              "2018-07-05     5080.9"
            ]
          },
          "metadata": {
            "tags": []
          },
          "execution_count": 32
        }
      ]
    },
    {
      "cell_type": "code",
      "metadata": {
        "id": "bUiVNESNjq_V",
        "colab": {
          "base_uri": "https://localhost:8080/",
          "height": 235
        },
        "outputId": "4d51d5b1-5938-4894-d4d6-ebdc322afd1e"
      },
      "source": [
        "c.index.name = 'Date'\n",
        "c.rename(columns = {'TOT_SALES': 'Total Sales'}, inplace = True)\n",
        "c.head()\n"
      ],
      "execution_count": null,
      "outputs": [
        {
          "output_type": "execute_result",
          "data": {
            "text/html": [
              "<div>\n",
              "<style scoped>\n",
              "    .dataframe tbody tr th:only-of-type {\n",
              "        vertical-align: middle;\n",
              "    }\n",
              "\n",
              "    .dataframe tbody tr th {\n",
              "        vertical-align: top;\n",
              "    }\n",
              "\n",
              "    .dataframe thead th {\n",
              "        text-align: right;\n",
              "    }\n",
              "</style>\n",
              "<table border=\"1\" class=\"dataframe\">\n",
              "  <thead>\n",
              "    <tr style=\"text-align: right;\">\n",
              "      <th></th>\n",
              "      <th>Total Sales</th>\n",
              "    </tr>\n",
              "    <tr>\n",
              "      <th>Date</th>\n",
              "      <th></th>\n",
              "    </tr>\n",
              "  </thead>\n",
              "  <tbody>\n",
              "    <tr>\n",
              "      <th>2018-07-01</th>\n",
              "      <td>5372.2</td>\n",
              "    </tr>\n",
              "    <tr>\n",
              "      <th>2018-07-02</th>\n",
              "      <td>5315.4</td>\n",
              "    </tr>\n",
              "    <tr>\n",
              "      <th>2018-07-03</th>\n",
              "      <td>5321.8</td>\n",
              "    </tr>\n",
              "    <tr>\n",
              "      <th>2018-07-04</th>\n",
              "      <td>5309.9</td>\n",
              "    </tr>\n",
              "    <tr>\n",
              "      <th>2018-07-05</th>\n",
              "      <td>5080.9</td>\n",
              "    </tr>\n",
              "  </tbody>\n",
              "</table>\n",
              "</div>"
            ],
            "text/plain": [
              "            Total Sales\n",
              "Date                   \n",
              "2018-07-01       5372.2\n",
              "2018-07-02       5315.4\n",
              "2018-07-03       5321.8\n",
              "2018-07-04       5309.9\n",
              "2018-07-05       5080.9"
            ]
          },
          "metadata": {
            "tags": []
          },
          "execution_count": 34
        }
      ]
    },
    {
      "cell_type": "code",
      "metadata": {
        "id": "qG_06-ehkgeT",
        "colab": {
          "base_uri": "https://localhost:8080/",
          "height": 350
        },
        "outputId": "bf444a88-da32-4cd0-efe1-4429ac8fe37e"
      },
      "source": [
        "timeline = c.index\n",
        "graph = c['Total Sales']\n",
        "\n",
        "fig, ax = plt.subplots(figsize = (10, 5))\n",
        "ax.plot(timeline, graph)\n",
        "\n",
        "date_form = DateFormatter(\"%Y-%m\")\n",
        "ax.xaxis.set_major_formatter(date_form)\n",
        "plt.title('Total Sales from July 2018 to June 2019')\n",
        "plt.xlabel('Time')\n",
        "plt.ylabel('Total Sales')\n",
        "\n",
        "plt.show()\n"
      ],
      "execution_count": null,
      "outputs": [
        {
          "output_type": "display_data",
          "data": {
            "image/png": "[encoded data removed]",
            "text/plain": [
              "<Figure size 720x360 with 1 Axes>"
            ]
          },
          "metadata": {
            "tags": [],
            "needs_background": "light"
          }
        }
      ]
    },
    {
      "cell_type": "markdown",
      "metadata": {
        "id": "qMQDAKWN9EMI"
      },
      "source": [
        "***We can see that sales spike up during the December month and zero sale on Christmas Day.***"
      ]
    },
    {
      "cell_type": "code",
      "metadata": {
        "id": "a0nYgWvAmmGe",
        "colab": {
          "base_uri": "https://localhost:8080/",
          "height": 111
        },
        "outputId": "3eebf15c-0495-45c9-fc66-62fd2aa9be67"
      },
      "source": [
        "# Confirm the date where sales count equals to zero\n",
        "\n",
        "c[c['Total Sales'] == 0]"
      ],
      "execution_count": null,
      "outputs": [
        {
          "output_type": "execute_result",
          "data": {
            "text/html": [
              "<div>\n",
              "<style scoped>\n",
              "    .dataframe tbody tr th:only-of-type {\n",
              "        vertical-align: middle;\n",
              "    }\n",
              "\n",
              "    .dataframe tbody tr th {\n",
              "        vertical-align: top;\n",
              "    }\n",
              "\n",
              "    .dataframe thead th {\n",
              "        text-align: right;\n",
              "    }\n",
              "</style>\n",
              "<table border=\"1\" class=\"dataframe\">\n",
              "  <thead>\n",
              "    <tr style=\"text-align: right;\">\n",
              "      <th></th>\n",
              "      <th>Total Sales</th>\n",
              "    </tr>\n",
              "    <tr>\n",
              "      <th>Date</th>\n",
              "      <th></th>\n",
              "    </tr>\n",
              "  </thead>\n",
              "  <tbody>\n",
              "    <tr>\n",
              "      <th>2018-12-25</th>\n",
              "      <td>0.0</td>\n",
              "    </tr>\n",
              "  </tbody>\n",
              "</table>\n",
              "</div>"
            ],
            "text/plain": [
              "            Total Sales\n",
              "Date                   \n",
              "2018-12-25          0.0"
            ]
          },
          "metadata": {
            "tags": []
          },
          "execution_count": 36
        }
      ]
    },
    {
      "cell_type": "code",
      "metadata": {
        "id": "0FyVYrdwnJ4R",
        "colab": {
          "base_uri": "https://localhost:8080/",
          "height": 235
        },
        "outputId": "767a1c64-770b-4fdc-8c28-764d16f85d9b"
      },
      "source": [
        "# Let's look at the December month only\n",
        "\n",
        "c_december = c[(c.index > \"2018-11-30\") & (c.index < \"2019-01-01\")]\n",
        "c_december.head()"
      ],
      "execution_count": null,
      "outputs": [
        {
          "output_type": "execute_result",
          "data": {
            "text/html": [
              "<div>\n",
              "<style scoped>\n",
              "    .dataframe tbody tr th:only-of-type {\n",
              "        vertical-align: middle;\n",
              "    }\n",
              "\n",
              "    .dataframe tbody tr th {\n",
              "        vertical-align: top;\n",
              "    }\n",
              "\n",
              "    .dataframe thead th {\n",
              "        text-align: right;\n",
              "    }\n",
              "</style>\n",
              "<table border=\"1\" class=\"dataframe\">\n",
              "  <thead>\n",
              "    <tr style=\"text-align: right;\">\n",
              "      <th></th>\n",
              "      <th>Total Sales</th>\n",
              "    </tr>\n",
              "    <tr>\n",
              "      <th>Date</th>\n",
              "      <th></th>\n",
              "    </tr>\n",
              "  </thead>\n",
              "  <tbody>\n",
              "    <tr>\n",
              "      <th>2018-12-01</th>\n",
              "      <td>5427.6</td>\n",
              "    </tr>\n",
              "    <tr>\n",
              "      <th>2018-12-02</th>\n",
              "      <td>5108.2</td>\n",
              "    </tr>\n",
              "    <tr>\n",
              "      <th>2018-12-03</th>\n",
              "      <td>5353.3</td>\n",
              "    </tr>\n",
              "    <tr>\n",
              "      <th>2018-12-04</th>\n",
              "      <td>5167.3</td>\n",
              "    </tr>\n",
              "    <tr>\n",
              "      <th>2018-12-05</th>\n",
              "      <td>5268.0</td>\n",
              "    </tr>\n",
              "  </tbody>\n",
              "</table>\n",
              "</div>"
            ],
            "text/plain": [
              "            Total Sales\n",
              "Date                   \n",
              "2018-12-01       5427.6\n",
              "2018-12-02       5108.2\n",
              "2018-12-03       5353.3\n",
              "2018-12-04       5167.3\n",
              "2018-12-05       5268.0"
            ]
          },
          "metadata": {
            "tags": []
          },
          "execution_count": 37
        }
      ]
    },
    {
      "cell_type": "code",
      "metadata": {
        "id": "V21JbTapnv3E",
        "colab": {
          "base_uri": "https://localhost:8080/",
          "height": 367
        },
        "outputId": "019b367b-8806-4da5-ca79-874e893f702c"
      },
      "source": [
        "plt.figure(figsize = (15, 5))\n",
        "plt.plot(c_december)\n",
        "plt.xlabel('Date')\n",
        "plt.ylabel('Total Sales')\n",
        "plt.title('Total Sales in December')"
      ],
      "execution_count": null,
      "outputs": [
        {
          "output_type": "execute_result",
          "data": {
            "text/plain": [
              "Text(0.5, 1.0, 'Total Sales in December')"
            ]
          },
          "metadata": {
            "tags": []
          },
          "execution_count": 38
        },
        {
          "output_type": "display_data",
          "data": {
            "image/png": "[encoded data removed]",
            "text/plain": [
              "<Figure size 1080x360 with 1 Axes>"
            ]
          },
          "metadata": {
            "tags": [],
            "needs_background": "light"
          }
        }
      ]
    },
    {
      "cell_type": "code",
      "metadata": {
        "id": "4tct97V1pVU1",
        "colab": {
          "base_uri": "https://localhost:8080/",
          "height": 204
        },
        "outputId": "54646b94-a568-43ec-c17c-24b5f27942b3"
      },
      "source": [
        "# Reset index\n",
        "\n",
        "c_december.reset_index(drop = True , inplace= True)\n",
        "c_december.head()"
      ],
      "execution_count": null,
      "outputs": [
        {
          "output_type": "execute_result",
          "data": {
            "text/html": [
              "<div>\n",
              "<style scoped>\n",
              "    .dataframe tbody tr th:only-of-type {\n",
              "        vertical-align: middle;\n",
              "    }\n",
              "\n",
              "    .dataframe tbody tr th {\n",
              "        vertical-align: top;\n",
              "    }\n",
              "\n",
              "    .dataframe thead th {\n",
              "        text-align: right;\n",
              "    }\n",
              "</style>\n",
              "<table border=\"1\" class=\"dataframe\">\n",
              "  <thead>\n",
              "    <tr style=\"text-align: right;\">\n",
              "      <th></th>\n",
              "      <th>Total Sales</th>\n",
              "    </tr>\n",
              "  </thead>\n",
              "  <tbody>\n",
              "    <tr>\n",
              "      <th>0</th>\n",
              "      <td>5427.6</td>\n",
              "    </tr>\n",
              "    <tr>\n",
              "      <th>1</th>\n",
              "      <td>5108.2</td>\n",
              "    </tr>\n",
              "    <tr>\n",
              "      <th>2</th>\n",
              "      <td>5353.3</td>\n",
              "    </tr>\n",
              "    <tr>\n",
              "      <th>3</th>\n",
              "      <td>5167.3</td>\n",
              "    </tr>\n",
              "    <tr>\n",
              "      <th>4</th>\n",
              "      <td>5268.0</td>\n",
              "    </tr>\n",
              "  </tbody>\n",
              "</table>\n",
              "</div>"
            ],
            "text/plain": [
              "   Total Sales\n",
              "0       5427.6\n",
              "1       5108.2\n",
              "2       5353.3\n",
              "3       5167.3\n",
              "4       5268.0"
            ]
          },
          "metadata": {
            "tags": []
          },
          "execution_count": 39
        }
      ]
    },
    {
      "cell_type": "code",
      "metadata": {
        "colab": {
          "base_uri": "https://localhost:8080/",
          "height": 204
        },
        "id": "bYtYFRl1Kt3_",
        "outputId": "f9309a2b-7361-41f1-eed0-31c752d4cf5d"
      },
      "source": [
        "# Relabel Date\n",
        "\n",
        "c_december['Date'] = c_december.index+1\n",
        "c_december.head()"
      ],
      "execution_count": null,
      "outputs": [
        {
          "output_type": "execute_result",
          "data": {
            "text/html": [
              "<div>\n",
              "<style scoped>\n",
              "    .dataframe tbody tr th:only-of-type {\n",
              "        vertical-align: middle;\n",
              "    }\n",
              "\n",
              "    .dataframe tbody tr th {\n",
              "        vertical-align: top;\n",
              "    }\n",
              "\n",
              "    .dataframe thead th {\n",
              "        text-align: right;\n",
              "    }\n",
              "</style>\n",
              "<table border=\"1\" class=\"dataframe\">\n",
              "  <thead>\n",
              "    <tr style=\"text-align: right;\">\n",
              "      <th></th>\n",
              "      <th>Total Sales</th>\n",
              "      <th>Date</th>\n",
              "    </tr>\n",
              "  </thead>\n",
              "  <tbody>\n",
              "    <tr>\n",
              "      <th>0</th>\n",
              "      <td>5427.6</td>\n",
              "      <td>1</td>\n",
              "    </tr>\n",
              "    <tr>\n",
              "      <th>1</th>\n",
              "      <td>5108.2</td>\n",
              "      <td>2</td>\n",
              "    </tr>\n",
              "    <tr>\n",
              "      <th>2</th>\n",
              "      <td>5353.3</td>\n",
              "      <td>3</td>\n",
              "    </tr>\n",
              "    <tr>\n",
              "      <th>3</th>\n",
              "      <td>5167.3</td>\n",
              "      <td>4</td>\n",
              "    </tr>\n",
              "    <tr>\n",
              "      <th>4</th>\n",
              "      <td>5268.0</td>\n",
              "      <td>5</td>\n",
              "    </tr>\n",
              "  </tbody>\n",
              "</table>\n",
              "</div>"
            ],
            "text/plain": [
              "   Total Sales  Date\n",
              "0       5427.6     1\n",
              "1       5108.2     2\n",
              "2       5353.3     3\n",
              "3       5167.3     4\n",
              "4       5268.0     5"
            ]
          },
          "metadata": {
            "tags": []
          },
          "execution_count": 40
        }
      ]
    },
    {
      "cell_type": "code",
      "metadata": {
        "id": "N-UVc3jppmSZ",
        "colab": {
          "base_uri": "https://localhost:8080/",
          "height": 351
        },
        "outputId": "2f062c87-c9d8-4a9d-bcb1-83228c4b0cd9"
      },
      "source": [
        "plt.figure(figsize = (15,5))\n",
        "sns.barplot(x = 'Date', y ='Total Sales', data = c_december)"
      ],
      "execution_count": null,
      "outputs": [
        {
          "output_type": "execute_result",
          "data": {
            "text/plain": [
              "<matplotlib.axes._subplots.AxesSubplot at 0x7fd22050a4a8>"
            ]
          },
          "metadata": {
            "tags": []
          },
          "execution_count": 41
        },
        {
          "output_type": "display_data",
          "data": {
            "image/png": "[encoded data removed]",
            "text/plain": [
              "<Figure size 1080x360 with 1 Axes>"
            ]
          },
          "metadata": {
            "tags": [],
            "needs_background": "light"
          }
        }
      ]
    },
    {
      "cell_type": "markdown",
      "metadata": {
        "id": "u12EpNQv9zY_"
      },
      "source": [
        "***Now, we move on to PACK_SIZE that we created at the beginning by extracting the weight from the PROD_NAME column.***"
      ]
    },
    {
      "cell_type": "code",
      "metadata": {
        "id": "umylJlaQp1Xj",
        "colab": {
          "base_uri": "https://localhost:8080/"
        },
        "outputId": "b99b97b2-3c69-454f-c56c-06d68186ab73"
      },
      "source": [
        "transactiondata['PACK_SIZE'].head()"
      ],
      "execution_count": null,
      "outputs": [
        {
          "output_type": "execute_result",
          "data": {
            "text/plain": [
              "0    175\n",
              "1    175\n",
              "2    170\n",
              "3    175\n",
              "4    150\n",
              "Name: PACK_SIZE, dtype: int64"
            ]
          },
          "metadata": {
            "tags": []
          },
          "execution_count": 42
        }
      ]
    },
    {
      "cell_type": "code",
      "metadata": {
        "id": "yy5vB6iGxvga",
        "colab": {
          "base_uri": "https://localhost:8080/"
        },
        "outputId": "2dd4195f-c939-447e-ad57-4edc605bc7e9"
      },
      "source": [
        "transactiondata['PACK_SIZE'].unique()"
      ],
      "execution_count": null,
      "outputs": [
        {
          "output_type": "execute_result",
          "data": {
            "text/plain": [
              "array([175, 170, 150, 300, 330, 210, 270, 220, 125, 110, 134, 380, 180,\n",
              "       165, 135, 250, 200, 160, 190,  90,  70])"
            ]
          },
          "metadata": {
            "tags": []
          },
          "execution_count": 43
        }
      ]
    },
    {
      "cell_type": "code",
      "metadata": {
        "id": "BAU2jLyAx-Jg",
        "colab": {
          "base_uri": "https://localhost:8080/",
          "height": 367
        },
        "outputId": "21ea9403-9e3f-48d4-cdd3-ce847e74de8b"
      },
      "source": [
        "# Check the distribution of PACK_SIZE\n",
        "\n",
        "plt.figure(figsize = (10, 5))\n",
        "plt.hist(transactiondata['PACK_SIZE'])     \n",
        "plt.xlabel('Pack Size')\n",
        "plt.ylabel('Frequency')\n",
        "plt.title('Pack Size Histogram')"
      ],
      "execution_count": null,
      "outputs": [
        {
          "output_type": "execute_result",
          "data": {
            "text/plain": [
              "Text(0.5, 1.0, 'Pack Size Histogram')"
            ]
          },
          "metadata": {
            "tags": []
          },
          "execution_count": 44
        },
        {
          "output_type": "display_data",
          "data": {
            "image/png": "[encoded data removed]",
            "text/plain": [
              "<Figure size 720x360 with 1 Axes>"
            ]
          },
          "metadata": {
            "tags": [],
            "needs_background": "light"
          }
        }
      ]
    },
    {
      "cell_type": "code",
      "metadata": {
        "id": "UqFI66E4zSbg",
        "colab": {
          "base_uri": "https://localhost:8080/",
          "height": 289
        },
        "outputId": "9829a387-617a-441c-bb09-5ba904d18b0f"
      },
      "source": [
        "# Extract brand name from PROD_NAME and create new column called BRAND\n",
        "\n",
        "part = transactiondata['PROD_NAME'].str.partition()\n",
        "transactiondata['BRAND'] = part[0]\n",
        "transactiondata.head()"
      ],
      "execution_count": null,
      "outputs": [
        {
          "output_type": "execute_result",
          "data": {
            "text/html": [
              "<div>\n",
              "<style scoped>\n",
              "    .dataframe tbody tr th:only-of-type {\n",
              "        vertical-align: middle;\n",
              "    }\n",
              "\n",
              "    .dataframe tbody tr th {\n",
              "        vertical-align: top;\n",
              "    }\n",
              "\n",
              "    .dataframe thead th {\n",
              "        text-align: right;\n",
              "    }\n",
              "</style>\n",
              "<table border=\"1\" class=\"dataframe\">\n",
              "  <thead>\n",
              "    <tr style=\"text-align: right;\">\n",
              "      <th></th>\n",
              "      <th>DATE</th>\n",
              "      <th>STORE_NBR</th>\n",
              "      <th>LYLTY_CARD_NBR</th>\n",
              "      <th>TXN_ID</th>\n",
              "      <th>PROD_NBR</th>\n",
              "      <th>PROD_NAME</th>\n",
              "      <th>PROD_QTY</th>\n",
              "      <th>TOT_SALES</th>\n",
              "      <th>PACK_SIZE</th>\n",
              "      <th>BRAND</th>\n",
              "    </tr>\n",
              "  </thead>\n",
              "  <tbody>\n",
              "    <tr>\n",
              "      <th>0</th>\n",
              "      <td>2018-10-17</td>\n",
              "      <td>1</td>\n",
              "      <td>1000</td>\n",
              "      <td>1</td>\n",
              "      <td>5</td>\n",
              "      <td>Natural Chip        Compny SeaSalt</td>\n",
              "      <td>2</td>\n",
              "      <td>6.0</td>\n",
              "      <td>175</td>\n",
              "      <td>Natural</td>\n",
              "    </tr>\n",
              "    <tr>\n",
              "      <th>1</th>\n",
              "      <td>2019-05-14</td>\n",
              "      <td>1</td>\n",
              "      <td>1307</td>\n",
              "      <td>348</td>\n",
              "      <td>66</td>\n",
              "      <td>CCs Nacho Cheese</td>\n",
              "      <td>3</td>\n",
              "      <td>6.3</td>\n",
              "      <td>175</td>\n",
              "      <td>CCs</td>\n",
              "    </tr>\n",
              "    <tr>\n",
              "      <th>2</th>\n",
              "      <td>2019-05-20</td>\n",
              "      <td>1</td>\n",
              "      <td>1343</td>\n",
              "      <td>383</td>\n",
              "      <td>61</td>\n",
              "      <td>Smiths Crinkle Cut  Chips Chicken</td>\n",
              "      <td>2</td>\n",
              "      <td>2.9</td>\n",
              "      <td>170</td>\n",
              "      <td>Smiths</td>\n",
              "    </tr>\n",
              "    <tr>\n",
              "      <th>3</th>\n",
              "      <td>2018-08-17</td>\n",
              "      <td>2</td>\n",
              "      <td>2373</td>\n",
              "      <td>974</td>\n",
              "      <td>69</td>\n",
              "      <td>Smiths Chip Thinly  S Cream Onion</td>\n",
              "      <td>5</td>\n",
              "      <td>15.0</td>\n",
              "      <td>175</td>\n",
              "      <td>Smiths</td>\n",
              "    </tr>\n",
              "    <tr>\n",
              "      <th>4</th>\n",
              "      <td>2018-08-18</td>\n",
              "      <td>2</td>\n",
              "      <td>2426</td>\n",
              "      <td>1038</td>\n",
              "      <td>108</td>\n",
              "      <td>Kettle Tortilla ChpsHny Jlpno Chili</td>\n",
              "      <td>3</td>\n",
              "      <td>13.8</td>\n",
              "      <td>150</td>\n",
              "      <td>Kettle</td>\n",
              "    </tr>\n",
              "  </tbody>\n",
              "</table>\n",
              "</div>"
            ],
            "text/plain": [
              "        DATE  STORE_NBR  LYLTY_CARD_NBR  ...  TOT_SALES  PACK_SIZE    BRAND\n",
              "0 2018-10-17          1            1000  ...        6.0        175  Natural\n",
              "1 2019-05-14          1            1307  ...        6.3        175      CCs\n",
              "2 2019-05-20          1            1343  ...        2.9        170   Smiths\n",
              "3 2018-08-17          2            2373  ...       15.0        175   Smiths\n",
              "4 2018-08-18          2            2426  ...       13.8        150   Kettle\n",
              "\n",
              "[5 rows x 10 columns]"
            ]
          },
          "metadata": {
            "tags": []
          },
          "execution_count": 45
        }
      ]
    },
    {
      "cell_type": "code",
      "metadata": {
        "id": "hCrmr1sGzfxX",
        "colab": {
          "base_uri": "https://localhost:8080/"
        },
        "outputId": "02ef1feb-7ad3-4cce-ec46-c3392ddc1997"
      },
      "source": [
        "transactiondata['BRAND'].unique()"
      ],
      "execution_count": null,
      "outputs": [
        {
          "output_type": "execute_result",
          "data": {
            "text/plain": [
              "array(['Natural', 'CCs', 'Smiths', 'Kettle', 'Old', 'Grain', 'Doritos',\n",
              "       'Twisties', 'WW', 'Thins', 'Burger', 'NCC', 'Cheezels', 'Infzns',\n",
              "       'Red', 'Pringles', 'Dorito', 'Infuzions', 'Smith', 'GrnWves',\n",
              "       'Tyrrells', 'Cobs', 'Woolworths', 'French', 'RRD', 'Tostitos',\n",
              "       'Cheetos', 'Snbts', 'Sunbites'], dtype=object)"
            ]
          },
          "metadata": {
            "tags": []
          },
          "execution_count": 47
        }
      ]
    },
    {
      "cell_type": "code",
      "metadata": {
        "id": "IijZbDd_0CvJ",
        "colab": {
          "base_uri": "https://localhost:8080/"
        },
        "outputId": "d465d7b1-b8af-4db1-b416-2a47c35b90da"
      },
      "source": [
        "# Rename brand names for consistency\n",
        "\n",
        "transactiondata['BRAND'].replace('Ncc', 'Natural', inplace = True)\n",
        "transactiondata['BRAND'].replace('Ccs', 'CCS', inplace = True)\n",
        "transactiondata['BRAND'].replace('Smith', 'Smiths', inplace = True)\n",
        "transactiondata['BRAND'].replace(['Grain', 'Grnwves'], 'Grainwaves', inplace = True)\n",
        "transactiondata['BRAND'].replace('Dorito', 'Doritos', inplace = True)\n",
        "transactiondata['BRAND'].replace('Ww', 'Woolworths', inplace = True)\n",
        "transactiondata['BRAND'].replace('Infzns', 'Infuzions', inplace = True)\n",
        "transactiondata['BRAND'].replace(['Red', 'Rrd'], 'Red Rock Deli', inplace = True)\n",
        "transactiondata['BRAND'].replace('Snbts', 'Sunbites', inplace = True)\n",
        "\n",
        "transactiondata['BRAND'].unique()"
      ],
      "execution_count": null,
      "outputs": [
        {
          "output_type": "execute_result",
          "data": {
            "text/plain": [
              "array(['Natural', 'CCs', 'Smiths', 'Kettle', 'Old', 'Grainwaves',\n",
              "       'Doritos', 'Twisties', 'WW', 'Thins', 'Burger', 'NCC', 'Cheezels',\n",
              "       'Infuzions', 'Red Rock Deli', 'Pringles', 'GrnWves', 'Tyrrells',\n",
              "       'Cobs', 'Woolworths', 'French', 'RRD', 'Tostitos', 'Cheetos',\n",
              "       'Sunbites'], dtype=object)"
            ]
          },
          "metadata": {
            "tags": []
          },
          "execution_count": 48
        }
      ]
    },
    {
      "cell_type": "code",
      "metadata": {
        "id": "7JlEtoj91CaR",
        "colab": {
          "base_uri": "https://localhost:8080/"
        },
        "outputId": "4cae414b-f7b7-4e5f-da98-d5c480ae354f"
      },
      "source": [
        "# Which brand has the most sales?\n",
        "transactiondata.groupby('BRAND').TOT_SALES.sum().sort_values(ascending = False)"
      ],
      "execution_count": null,
      "outputs": [
        {
          "output_type": "execute_result",
          "data": {
            "text/plain": [
              "BRAND\n",
              "Kettle           390239.8\n",
              "Doritos          240590.9\n",
              "Smiths           224660.2\n",
              "Pringles         177655.5\n",
              "Infuzions         99047.6\n",
              "Old               90785.1\n",
              "Thins             88852.5\n",
              "Twisties          81522.1\n",
              "Tostitos          79789.6\n",
              "Cobs              70569.8\n",
              "RRD               64954.5\n",
              "Tyrrells          51647.4\n",
              "Grainwaves        43048.8\n",
              "Cheezels          40029.9\n",
              "WW                35889.5\n",
              "Natural           34272.0\n",
              "Red Rock Deli     30091.5\n",
              "CCs               18078.9\n",
              "Cheetos           16884.5\n",
              "Woolworths        13454.1\n",
              "Sunbites           9676.4\n",
              "GrnWves            8568.4\n",
              "NCC                8046.0\n",
              "French             7929.0\n",
              "Burger             6831.0\n",
              "Name: TOT_SALES, dtype: float64"
            ]
          },
          "metadata": {
            "tags": []
          },
          "execution_count": 49
        }
      ]
    },
    {
      "cell_type": "markdown",
      "metadata": {
        "id": "hr3AGxnL-_zZ"
      },
      "source": [
        "# ***Customer Data***"
      ]
    },
    {
      "cell_type": "code",
      "metadata": {
        "id": "OIDVNS9_2DEh",
        "colab": {
          "base_uri": "https://localhost:8080/"
        },
        "outputId": "7eeb47ec-f088-4de9-cb54-a20d662d37a2"
      },
      "source": [
        "list(customerdata)"
      ],
      "execution_count": null,
      "outputs": [
        {
          "output_type": "execute_result",
          "data": {
            "text/plain": [
              "['LYLTY_CARD_NBR', 'LIFESTAGE', 'PREMIUM_CUSTOMER']"
            ]
          },
          "metadata": {
            "tags": []
          },
          "execution_count": 50
        }
      ]
    },
    {
      "cell_type": "code",
      "metadata": {
        "id": "Z7cEXTG2TY17",
        "colab": {
          "base_uri": "https://localhost:8080/",
          "height": 204
        },
        "outputId": "07a8d0d4-3e07-40e1-d10b-e6637c8c6f7c"
      },
      "source": [
        "customerdata.head()"
      ],
      "execution_count": null,
      "outputs": [
        {
          "output_type": "execute_result",
          "data": {
            "text/html": [
              "<div>\n",
              "<style scoped>\n",
              "    .dataframe tbody tr th:only-of-type {\n",
              "        vertical-align: middle;\n",
              "    }\n",
              "\n",
              "    .dataframe tbody tr th {\n",
              "        vertical-align: top;\n",
              "    }\n",
              "\n",
              "    .dataframe thead th {\n",
              "        text-align: right;\n",
              "    }\n",
              "</style>\n",
              "<table border=\"1\" class=\"dataframe\">\n",
              "  <thead>\n",
              "    <tr style=\"text-align: right;\">\n",
              "      <th></th>\n",
              "      <th>LYLTY_CARD_NBR</th>\n",
              "      <th>LIFESTAGE</th>\n",
              "      <th>PREMIUM_CUSTOMER</th>\n",
              "    </tr>\n",
              "  </thead>\n",
              "  <tbody>\n",
              "    <tr>\n",
              "      <th>0</th>\n",
              "      <td>1000</td>\n",
              "      <td>YOUNG SINGLES/COUPLES</td>\n",
              "      <td>Premium</td>\n",
              "    </tr>\n",
              "    <tr>\n",
              "      <th>1</th>\n",
              "      <td>1002</td>\n",
              "      <td>YOUNG SINGLES/COUPLES</td>\n",
              "      <td>Mainstream</td>\n",
              "    </tr>\n",
              "    <tr>\n",
              "      <th>2</th>\n",
              "      <td>1003</td>\n",
              "      <td>YOUNG FAMILIES</td>\n",
              "      <td>Budget</td>\n",
              "    </tr>\n",
              "    <tr>\n",
              "      <th>3</th>\n",
              "      <td>1004</td>\n",
              "      <td>OLDER SINGLES/COUPLES</td>\n",
              "      <td>Mainstream</td>\n",
              "    </tr>\n",
              "    <tr>\n",
              "      <th>4</th>\n",
              "      <td>1005</td>\n",
              "      <td>MIDAGE SINGLES/COUPLES</td>\n",
              "      <td>Mainstream</td>\n",
              "    </tr>\n",
              "  </tbody>\n",
              "</table>\n",
              "</div>"
            ],
            "text/plain": [
              "   LYLTY_CARD_NBR               LIFESTAGE PREMIUM_CUSTOMER\n",
              "0            1000   YOUNG SINGLES/COUPLES          Premium\n",
              "1            1002   YOUNG SINGLES/COUPLES       Mainstream\n",
              "2            1003          YOUNG FAMILIES           Budget\n",
              "3            1004   OLDER SINGLES/COUPLES       Mainstream\n",
              "4            1005  MIDAGE SINGLES/COUPLES       Mainstream"
            ]
          },
          "metadata": {
            "tags": []
          },
          "execution_count": 51
        }
      ]
    },
    {
      "cell_type": "code",
      "metadata": {
        "id": "6_-j_mtdTd5L",
        "colab": {
          "base_uri": "https://localhost:8080/",
          "height": 484
        },
        "outputId": "8a9e6d7e-82e4-46b0-b1df-16f06b2e96e5"
      },
      "source": [
        "# Missing values in customerData\n",
        "\n",
        "missingno.matrix(customerdata)"
      ],
      "execution_count": null,
      "outputs": [
        {
          "output_type": "execute_result",
          "data": {
            "text/plain": [
              "<matplotlib.axes._subplots.AxesSubplot at 0x7fd218a513c8>"
            ]
          },
          "metadata": {
            "tags": []
          },
          "execution_count": 52
        },
        {
          "output_type": "display_data",
          "data": {
            "image/png": "[encoded data removed]",
            "text/plain": [
              "<Figure size 1800x720 with 2 Axes>"
            ]
          },
          "metadata": {
            "tags": [],
            "needs_background": "light"
          }
        }
      ]
    },
    {
      "cell_type": "code",
      "metadata": {
        "id": "nlIOGKxNTqN8",
        "colab": {
          "base_uri": "https://localhost:8080/"
        },
        "outputId": "d70e4ed6-c148-4329-a697-dab8767ffc95"
      },
      "source": [
        "len(customerdata)"
      ],
      "execution_count": null,
      "outputs": [
        {
          "output_type": "execute_result",
          "data": {
            "text/plain": [
              "72636"
            ]
          },
          "metadata": {
            "tags": []
          },
          "execution_count": 53
        }
      ]
    },
    {
      "cell_type": "code",
      "metadata": {
        "id": "a-BS0p95T806",
        "colab": {
          "base_uri": "https://localhost:8080/"
        },
        "outputId": "926bd15d-1023-4c55-d190-fa25661f4b8f"
      },
      "source": [
        "customerdata['LYLTY_CARD_NBR'].nunique()"
      ],
      "execution_count": null,
      "outputs": [
        {
          "output_type": "execute_result",
          "data": {
            "text/plain": [
              "72636"
            ]
          },
          "metadata": {
            "tags": []
          },
          "execution_count": 54
        }
      ]
    },
    {
      "cell_type": "markdown",
      "metadata": {
        "id": "p_6_BN4bUFJh"
      },
      "source": [
        "***Since the number of rows in customerdata is equal to number of unique loyalty card number, we conclude that loyalty card numbers are unique to each row.***\n"
      ]
    },
    {
      "cell_type": "code",
      "metadata": {
        "id": "MOymXhoCUTho",
        "colab": {
          "base_uri": "https://localhost:8080/"
        },
        "outputId": "7f0a6406-e551-478b-9986-9986ef3cf65c"
      },
      "source": [
        "# How many unique lifestages?\n",
        "\n",
        "customerdata['LIFESTAGE'].nunique()"
      ],
      "execution_count": null,
      "outputs": [
        {
          "output_type": "execute_result",
          "data": {
            "text/plain": [
              "7"
            ]
          },
          "metadata": {
            "tags": []
          },
          "execution_count": 55
        }
      ]
    },
    {
      "cell_type": "code",
      "metadata": {
        "id": "ev8fwlWvUmc-",
        "colab": {
          "base_uri": "https://localhost:8080/"
        },
        "outputId": "035079a8-d2f8-4964-9c5a-9d01edead69e"
      },
      "source": [
        "# What are those lifestages?\n",
        "\n",
        "customerdata['LIFESTAGE'].unique()"
      ],
      "execution_count": null,
      "outputs": [
        {
          "output_type": "execute_result",
          "data": {
            "text/plain": [
              "array(['YOUNG SINGLES/COUPLES', 'YOUNG FAMILIES', 'OLDER SINGLES/COUPLES',\n",
              "       'MIDAGE SINGLES/COUPLES', 'NEW FAMILIES', 'OLDER FAMILIES',\n",
              "       'RETIREES'], dtype=object)"
            ]
          },
          "metadata": {
            "tags": []
          },
          "execution_count": 56
        }
      ]
    },
    {
      "cell_type": "code",
      "metadata": {
        "id": "nX8MLyepUu4L",
        "colab": {
          "base_uri": "https://localhost:8080/"
        },
        "outputId": "6c6fd127-aa01-45be-a825-1f963421cd90"
      },
      "source": [
        "# Value counts for lifestages\n",
        "\n",
        "customerdata['LIFESTAGE'].value_counts().sort_values(ascending = False)"
      ],
      "execution_count": null,
      "outputs": [
        {
          "output_type": "execute_result",
          "data": {
            "text/plain": [
              "RETIREES                  14805\n",
              "OLDER SINGLES/COUPLES     14609\n",
              "YOUNG SINGLES/COUPLES     14441\n",
              "OLDER FAMILIES             9779\n",
              "YOUNG FAMILIES             9178\n",
              "MIDAGE SINGLES/COUPLES     7275\n",
              "NEW FAMILIES               2549\n",
              "Name: LIFESTAGE, dtype: int64"
            ]
          },
          "metadata": {
            "tags": []
          },
          "execution_count": 57
        }
      ]
    },
    {
      "cell_type": "code",
      "metadata": {
        "id": "MGECTwUjVE22",
        "colab": {
          "base_uri": "https://localhost:8080/",
          "height": 296
        },
        "outputId": "57f72547-e243-4bdd-aeac-a4afa4db95b7"
      },
      "source": [
        "sns.countplot(y = customerdata['LIFESTAGE'] , order= customerdata['LIFESTAGE'].value_counts().index)"
      ],
      "execution_count": null,
      "outputs": [
        {
          "output_type": "execute_result",
          "data": {
            "text/plain": [
              "<matplotlib.axes._subplots.AxesSubplot at 0x7fd218652518>"
            ]
          },
          "metadata": {
            "tags": []
          },
          "execution_count": 58
        },
        {
          "output_type": "display_data",
          "data": {
            "image/png": "[encoded data removed]",
            "text/plain": [
              "<Figure size 432x288 with 1 Axes>"
            ]
          },
          "metadata": {
            "tags": [],
            "needs_background": "light"
          }
        }
      ]
    },
    {
      "cell_type": "code",
      "metadata": {
        "id": "vCan_V17V5w4",
        "colab": {
          "base_uri": "https://localhost:8080/"
        },
        "outputId": "fd674b0e-3ceb-4297-e481-895d7f6bf4bd"
      },
      "source": [
        "# How many unique premium customer categories?\n",
        "\n",
        "customerdata['PREMIUM_CUSTOMER'].nunique()"
      ],
      "execution_count": null,
      "outputs": [
        {
          "output_type": "execute_result",
          "data": {
            "text/plain": [
              "3"
            ]
          },
          "metadata": {
            "tags": []
          },
          "execution_count": 59
        }
      ]
    },
    {
      "cell_type": "code",
      "metadata": {
        "id": "R8yfFNQvWNlN",
        "colab": {
          "base_uri": "https://localhost:8080/"
        },
        "outputId": "9faf388a-5337-4fc4-bd04-191684e77f5e"
      },
      "source": [
        "# Value counts for each premium customer category\n",
        "\n",
        "customerdata['PREMIUM_CUSTOMER'].value_counts().sort_values(ascending = False)"
      ],
      "execution_count": null,
      "outputs": [
        {
          "output_type": "execute_result",
          "data": {
            "text/plain": [
              "Mainstream    29245\n",
              "Budget        24470\n",
              "Premium       18921\n",
              "Name: PREMIUM_CUSTOMER, dtype: int64"
            ]
          },
          "metadata": {
            "tags": []
          },
          "execution_count": 60
        }
      ]
    },
    {
      "cell_type": "code",
      "metadata": {
        "id": "CqIuUi5lWdwm",
        "colab": {
          "base_uri": "https://localhost:8080/",
          "height": 459
        },
        "outputId": "105db159-d603-4170-8b6b-24f502b59091"
      },
      "source": [
        "plt.figure(figsize=(12,7))\n",
        "sns.countplot(y = customerdata['PREMIUM_CUSTOMER'] , order = customerdata['PREMIUM_CUSTOMER'].value_counts().index)\n",
        "plt.xlabel('Number of Customers')\n",
        "plt.ylabel('Premium Customers')"
      ],
      "execution_count": null,
      "outputs": [
        {
          "output_type": "execute_result",
          "data": {
            "text/plain": [
              "Text(0, 0.5, 'Premium Customers')"
            ]
          },
          "metadata": {
            "tags": []
          },
          "execution_count": 61
        },
        {
          "output_type": "display_data",
          "data": {
            "image/png": "[encoded data removed]",
            "text/plain": [
              "<Figure size 864x504 with 1 Axes>"
            ]
          },
          "metadata": {
            "tags": [],
            "needs_background": "light"
          }
        }
      ]
    },
    {
      "cell_type": "code",
      "metadata": {
        "id": "yyNBKSyGXQZt"
      },
      "source": [
        "# Merge transactiondata and customerdata together\n",
        "\n",
        "combinedata = pd.merge(transactiondata , customerdata)"
      ],
      "execution_count": null,
      "outputs": []
    },
    {
      "cell_type": "code",
      "metadata": {
        "id": "vvuIO93YXiFp",
        "colab": {
          "base_uri": "https://localhost:8080/"
        },
        "outputId": "18cb8351-a177-451f-c756-f5b310040117"
      },
      "source": [
        "# Check for null values\n",
        "\n",
        "print(\"transactiondata shape: \" , transactiondata.shape)\n",
        "print(\"customerdata shape: \" , customerdata.shape)\n",
        "print(\"combinedata shape: \" , combinedata.shape)"
      ],
      "execution_count": null,
      "outputs": [
        {
          "output_type": "stream",
          "text": [
            "transactiondata shape:  (264834, 10)\n",
            "customerdata shape:  (72636, 3)\n",
            "combinedata shape:  (264834, 12)\n"
          ],
          "name": "stdout"
        }
      ]
    },
    {
      "cell_type": "code",
      "metadata": {
        "id": "-9M1VdJIYMj1",
        "colab": {
          "base_uri": "https://localhost:8080/"
        },
        "outputId": "9c78e838-de6d-416d-b359-4935b5d06cdd"
      },
      "source": [
        "combinedata.isnull().sum()"
      ],
      "execution_count": null,
      "outputs": [
        {
          "output_type": "execute_result",
          "data": {
            "text/plain": [
              "DATE                0\n",
              "STORE_NBR           0\n",
              "LYLTY_CARD_NBR      0\n",
              "TXN_ID              0\n",
              "PROD_NBR            0\n",
              "PROD_NAME           0\n",
              "PROD_QTY            0\n",
              "TOT_SALES           0\n",
              "PACK_SIZE           0\n",
              "BRAND               0\n",
              "LIFESTAGE           0\n",
              "PREMIUM_CUSTOMER    0\n",
              "dtype: int64"
            ]
          },
          "metadata": {
            "tags": []
          },
          "execution_count": 64
        }
      ]
    },
    {
      "cell_type": "markdown",
      "metadata": {
        "id": "zJZcoxlmYXHi"
      },
      "source": [
        "# **Data Analysis On Customer Segment**"
      ]
    },
    {
      "cell_type": "markdown",
      "metadata": {
        "id": "8r_nx7aumOd4"
      },
      "source": [
        "***Now that our data is ready for analysis, we can define some metrics of interest to the client:***\n",
        "\n",
        "\n",
        "\n",
        "*   ***Who spends the most on chips, describing customers by lifestage and how premium their general purchasing behaviour is***\n",
        "*   ***How many customers are in each segment***\n",
        "\n",
        "\n",
        "*  ***How many chips are bought per customer by segment***\n",
        "*  ***What is the average chip price by customer segment***\n"
      ]
    },
    {
      "cell_type": "code",
      "metadata": {
        "id": "Gq_aj34RagrP",
        "colab": {
          "base_uri": "https://localhost:8080/",
          "height": 731
        },
        "outputId": "bbb65b88-cef6-4fdb-ddbb-7cfd1c0168fd"
      },
      "source": [
        "# Total sales by PREMIUM_CUSTOMER and LIFESTAGE\n",
        "\n",
        "sales = pd.DataFrame(combinedata.groupby(['PREMIUM_CUSTOMER', 'LIFESTAGE']).TOT_SALES.sum())\n",
        "sales.rename(columns = {'TOT_SALES': 'Total Sales'}, inplace = True)\n",
        "sales.sort_values(by = 'Total Sales', ascending = False, inplace = True)\n",
        "sales\n"
      ],
      "execution_count": null,
      "outputs": [
        {
          "output_type": "execute_result",
          "data": {
            "text/html": [
              "<div>\n",
              "<style scoped>\n",
              "    .dataframe tbody tr th:only-of-type {\n",
              "        vertical-align: middle;\n",
              "    }\n",
              "\n",
              "    .dataframe tbody tr th {\n",
              "        vertical-align: top;\n",
              "    }\n",
              "\n",
              "    .dataframe thead th {\n",
              "        text-align: right;\n",
              "    }\n",
              "</style>\n",
              "<table border=\"1\" class=\"dataframe\">\n",
              "  <thead>\n",
              "    <tr style=\"text-align: right;\">\n",
              "      <th></th>\n",
              "      <th></th>\n",
              "      <th>Total Sales</th>\n",
              "    </tr>\n",
              "    <tr>\n",
              "      <th>PREMIUM_CUSTOMER</th>\n",
              "      <th>LIFESTAGE</th>\n",
              "      <th></th>\n",
              "    </tr>\n",
              "  </thead>\n",
              "  <tbody>\n",
              "    <tr>\n",
              "      <th>Budget</th>\n",
              "      <th>OLDER FAMILIES</th>\n",
              "      <td>168363.25</td>\n",
              "    </tr>\n",
              "    <tr>\n",
              "      <th rowspan=\"2\" valign=\"top\">Mainstream</th>\n",
              "      <th>YOUNG SINGLES/COUPLES</th>\n",
              "      <td>157621.60</td>\n",
              "    </tr>\n",
              "    <tr>\n",
              "      <th>RETIREES</th>\n",
              "      <td>155677.05</td>\n",
              "    </tr>\n",
              "    <tr>\n",
              "      <th rowspan=\"2\" valign=\"top\">Budget</th>\n",
              "      <th>YOUNG FAMILIES</th>\n",
              "      <td>139345.85</td>\n",
              "    </tr>\n",
              "    <tr>\n",
              "      <th>OLDER SINGLES/COUPLES</th>\n",
              "      <td>136769.80</td>\n",
              "    </tr>\n",
              "    <tr>\n",
              "      <th>Mainstream</th>\n",
              "      <th>OLDER SINGLES/COUPLES</th>\n",
              "      <td>133393.80</td>\n",
              "    </tr>\n",
              "    <tr>\n",
              "      <th>Premium</th>\n",
              "      <th>OLDER SINGLES/COUPLES</th>\n",
              "      <td>132263.15</td>\n",
              "    </tr>\n",
              "    <tr>\n",
              "      <th>Budget</th>\n",
              "      <th>RETIREES</th>\n",
              "      <td>113147.80</td>\n",
              "    </tr>\n",
              "    <tr>\n",
              "      <th>Mainstream</th>\n",
              "      <th>OLDER FAMILIES</th>\n",
              "      <td>103445.55</td>\n",
              "    </tr>\n",
              "    <tr>\n",
              "      <th>Premium</th>\n",
              "      <th>RETIREES</th>\n",
              "      <td>97646.05</td>\n",
              "    </tr>\n",
              "    <tr>\n",
              "      <th rowspan=\"2\" valign=\"top\">Mainstream</th>\n",
              "      <th>YOUNG FAMILIES</th>\n",
              "      <td>92788.75</td>\n",
              "    </tr>\n",
              "    <tr>\n",
              "      <th>MIDAGE SINGLES/COUPLES</th>\n",
              "      <td>90803.85</td>\n",
              "    </tr>\n",
              "    <tr>\n",
              "      <th rowspan=\"2\" valign=\"top\">Premium</th>\n",
              "      <th>YOUNG FAMILIES</th>\n",
              "      <td>84025.50</td>\n",
              "    </tr>\n",
              "    <tr>\n",
              "      <th>OLDER FAMILIES</th>\n",
              "      <td>80658.40</td>\n",
              "    </tr>\n",
              "    <tr>\n",
              "      <th>Budget</th>\n",
              "      <th>YOUNG SINGLES/COUPLES</th>\n",
              "      <td>61141.60</td>\n",
              "    </tr>\n",
              "    <tr>\n",
              "      <th rowspan=\"2\" valign=\"top\">Premium</th>\n",
              "      <th>MIDAGE SINGLES/COUPLES</th>\n",
              "      <td>58432.65</td>\n",
              "    </tr>\n",
              "    <tr>\n",
              "      <th>YOUNG SINGLES/COUPLES</th>\n",
              "      <td>41642.10</td>\n",
              "    </tr>\n",
              "    <tr>\n",
              "      <th rowspan=\"2\" valign=\"top\">Budget</th>\n",
              "      <th>MIDAGE SINGLES/COUPLES</th>\n",
              "      <td>35514.80</td>\n",
              "    </tr>\n",
              "    <tr>\n",
              "      <th>NEW FAMILIES</th>\n",
              "      <td>21928.45</td>\n",
              "    </tr>\n",
              "    <tr>\n",
              "      <th>Mainstream</th>\n",
              "      <th>NEW FAMILIES</th>\n",
              "      <td>17013.90</td>\n",
              "    </tr>\n",
              "    <tr>\n",
              "      <th>Premium</th>\n",
              "      <th>NEW FAMILIES</th>\n",
              "      <td>11491.10</td>\n",
              "    </tr>\n",
              "  </tbody>\n",
              "</table>\n",
              "</div>"
            ],
            "text/plain": [
              "                                         Total Sales\n",
              "PREMIUM_CUSTOMER LIFESTAGE                          \n",
              "Budget           OLDER FAMILIES            168363.25\n",
              "Mainstream       YOUNG SINGLES/COUPLES     157621.60\n",
              "                 RETIREES                  155677.05\n",
              "Budget           YOUNG FAMILIES            139345.85\n",
              "                 OLDER SINGLES/COUPLES     136769.80\n",
              "Mainstream       OLDER SINGLES/COUPLES     133393.80\n",
              "Premium          OLDER SINGLES/COUPLES     132263.15\n",
              "Budget           RETIREES                  113147.80\n",
              "Mainstream       OLDER FAMILIES            103445.55\n",
              "Premium          RETIREES                   97646.05\n",
              "Mainstream       YOUNG FAMILIES             92788.75\n",
              "                 MIDAGE SINGLES/COUPLES     90803.85\n",
              "Premium          YOUNG FAMILIES             84025.50\n",
              "                 OLDER FAMILIES             80658.40\n",
              "Budget           YOUNG SINGLES/COUPLES      61141.60\n",
              "Premium          MIDAGE SINGLES/COUPLES     58432.65\n",
              "                 YOUNG SINGLES/COUPLES      41642.10\n",
              "Budget           MIDAGE SINGLES/COUPLES     35514.80\n",
              "                 NEW FAMILIES               21928.45\n",
              "Mainstream       NEW FAMILIES               17013.90\n",
              "Premium          NEW FAMILIES               11491.10"
            ]
          },
          "metadata": {
            "tags": []
          },
          "execution_count": 65
        }
      ]
    },
    {
      "cell_type": "code",
      "metadata": {
        "id": "yO2w-PTFeiJ6",
        "colab": {
          "base_uri": "https://localhost:8080/",
          "height": 600
        },
        "outputId": "a405dd40-1d44-43e5-8b8a-8c964ac7f7a5"
      },
      "source": [
        "# Visualise\n",
        "\n",
        "salesPlot = pd.DataFrame(combinedata.groupby(['LIFESTAGE', 'PREMIUM_CUSTOMER']).TOT_SALES.sum())\n",
        "salesPlot.unstack().plot(kind = 'bar', stacked = True, figsize = (12, 7), title = 'Total Sales by Customer Segment')\n",
        "plt.ylabel('Total Sales')\n",
        "plt.legend(['Budget', 'Mainstream', 'Premium'], loc = 1)"
      ],
      "execution_count": null,
      "outputs": [
        {
          "output_type": "execute_result",
          "data": {
            "text/plain": [
              "<matplotlib.legend.Legend at 0x7fd218a48d30>"
            ]
          },
          "metadata": {
            "tags": []
          },
          "execution_count": 66
        },
        {
          "output_type": "display_data",
          "data": {
            "image/png": "[encoded data removed]",
            "text/plain": [
              "<Figure size 864x504 with 1 Axes>"
            ]
          },
          "metadata": {
            "tags": [],
            "needs_background": "light"
          }
        }
      ]
    },
    {
      "cell_type": "markdown",
      "metadata": {
        "id": "e6CL8LmGfZQ0"
      },
      "source": [
        "***Top 3 sales come from budget older families, mainstream young singles/couples and mainstream retirees.***"
      ]
    },
    {
      "cell_type": "code",
      "metadata": {
        "id": "U7W24Pqme1sY",
        "colab": {
          "base_uri": "https://localhost:8080/",
          "height": 390
        },
        "outputId": "97762928-3912-48a9-f6eb-78d3f9ec6410"
      },
      "source": [
        "# Number of customers by PREMIUM_CUSTOMER and LIFESTAGE\n",
        "\n",
        "customers = pd.DataFrame(combinedata.groupby(['PREMIUM_CUSTOMER', 'LIFESTAGE']).LYLTY_CARD_NBR.nunique())\n",
        "customers.rename(columns = {'LYLTY_CARD_NBR': 'Number of Customers'}, inplace = True)\n",
        "customers.sort_values(by = 'Number of Customers', ascending = False).head(10)"
      ],
      "execution_count": null,
      "outputs": [
        {
          "output_type": "execute_result",
          "data": {
            "text/html": [
              "<div>\n",
              "<style scoped>\n",
              "    .dataframe tbody tr th:only-of-type {\n",
              "        vertical-align: middle;\n",
              "    }\n",
              "\n",
              "    .dataframe tbody tr th {\n",
              "        vertical-align: top;\n",
              "    }\n",
              "\n",
              "    .dataframe thead th {\n",
              "        text-align: right;\n",
              "    }\n",
              "</style>\n",
              "<table border=\"1\" class=\"dataframe\">\n",
              "  <thead>\n",
              "    <tr style=\"text-align: right;\">\n",
              "      <th></th>\n",
              "      <th></th>\n",
              "      <th>Number of Customers</th>\n",
              "    </tr>\n",
              "    <tr>\n",
              "      <th>PREMIUM_CUSTOMER</th>\n",
              "      <th>LIFESTAGE</th>\n",
              "      <th></th>\n",
              "    </tr>\n",
              "  </thead>\n",
              "  <tbody>\n",
              "    <tr>\n",
              "      <th rowspan=\"3\" valign=\"top\">Mainstream</th>\n",
              "      <th>YOUNG SINGLES/COUPLES</th>\n",
              "      <td>8088</td>\n",
              "    </tr>\n",
              "    <tr>\n",
              "      <th>RETIREES</th>\n",
              "      <td>6479</td>\n",
              "    </tr>\n",
              "    <tr>\n",
              "      <th>OLDER SINGLES/COUPLES</th>\n",
              "      <td>4930</td>\n",
              "    </tr>\n",
              "    <tr>\n",
              "      <th>Budget</th>\n",
              "      <th>OLDER SINGLES/COUPLES</th>\n",
              "      <td>4929</td>\n",
              "    </tr>\n",
              "    <tr>\n",
              "      <th>Premium</th>\n",
              "      <th>OLDER SINGLES/COUPLES</th>\n",
              "      <td>4750</td>\n",
              "    </tr>\n",
              "    <tr>\n",
              "      <th rowspan=\"3\" valign=\"top\">Budget</th>\n",
              "      <th>OLDER FAMILIES</th>\n",
              "      <td>4675</td>\n",
              "    </tr>\n",
              "    <tr>\n",
              "      <th>RETIREES</th>\n",
              "      <td>4454</td>\n",
              "    </tr>\n",
              "    <tr>\n",
              "      <th>YOUNG FAMILIES</th>\n",
              "      <td>4017</td>\n",
              "    </tr>\n",
              "    <tr>\n",
              "      <th>Premium</th>\n",
              "      <th>RETIREES</th>\n",
              "      <td>3872</td>\n",
              "    </tr>\n",
              "    <tr>\n",
              "      <th>Budget</th>\n",
              "      <th>YOUNG SINGLES/COUPLES</th>\n",
              "      <td>3779</td>\n",
              "    </tr>\n",
              "  </tbody>\n",
              "</table>\n",
              "</div>"
            ],
            "text/plain": [
              "                                        Number of Customers\n",
              "PREMIUM_CUSTOMER LIFESTAGE                                 \n",
              "Mainstream       YOUNG SINGLES/COUPLES                 8088\n",
              "                 RETIREES                              6479\n",
              "                 OLDER SINGLES/COUPLES                 4930\n",
              "Budget           OLDER SINGLES/COUPLES                 4929\n",
              "Premium          OLDER SINGLES/COUPLES                 4750\n",
              "Budget           OLDER FAMILIES                        4675\n",
              "                 RETIREES                              4454\n",
              "                 YOUNG FAMILIES                        4017\n",
              "Premium          RETIREES                              3872\n",
              "Budget           YOUNG SINGLES/COUPLES                 3779"
            ]
          },
          "metadata": {
            "tags": []
          },
          "execution_count": 67
        }
      ]
    },
    {
      "cell_type": "code",
      "metadata": {
        "id": "NitTVHl4fmoO",
        "colab": {
          "base_uri": "https://localhost:8080/",
          "height": 600
        },
        "outputId": "9e94ed22-5460-4452-fdf5-bd1631d5bbad"
      },
      "source": [
        "# Visualise\n",
        "\n",
        "customersPlot = pd.DataFrame(combinedata.groupby(['LIFESTAGE', 'PREMIUM_CUSTOMER']).LYLTY_CARD_NBR.nunique())\n",
        "customersPlot.unstack().plot(kind = 'bar', stacked = True, figsize = (12, 7), title = 'Number of Customers by Customer Segment')\n",
        "plt.ylabel('Number of Customers')\n",
        "plt.legend(['Budget', 'Mainstream', 'Premium'], loc = 2)"
      ],
      "execution_count": null,
      "outputs": [
        {
          "output_type": "execute_result",
          "data": {
            "text/plain": [
              "<matplotlib.legend.Legend at 0x7fd218a45240>"
            ]
          },
          "metadata": {
            "tags": []
          },
          "execution_count": 68
        },
        {
          "output_type": "display_data",
          "data": {
            "image/png": "[encoded data removed]",
            "text/plain": [
              "<Figure size 864x504 with 1 Axes>"
            ]
          },
          "metadata": {
            "tags": [],
            "needs_background": "light"
          }
        }
      ]
    },
    {
      "cell_type": "markdown",
      "metadata": {
        "id": "VZ94yQ_Kf-yb"
      },
      "source": [
        "***There are more mainstream young singles/couples and retirees. This contributes to more chips sales in these segments however this is not the major driver for the budget older families segment.***"
      ]
    },
    {
      "cell_type": "code",
      "metadata": {
        "id": "OG1AEMGLfz54",
        "colab": {
          "base_uri": "https://localhost:8080/",
          "height": 235
        },
        "outputId": "815b4fe8-5bf5-400f-e05d-a4ac0c8e3f3d"
      },
      "source": [
        "# Average units per customer by PREMIUM_CUSTOMER and LIFESTAGE\n",
        "\n",
        "avg_units = combinedata.groupby(['PREMIUM_CUSTOMER', 'LIFESTAGE']).PROD_QTY.sum() / combinedata.groupby(['PREMIUM_CUSTOMER', 'LIFESTAGE']).LYLTY_CARD_NBR.nunique()\n",
        "avg_units = pd.DataFrame(avg_units, columns = {'Average Unit per Customer'})\n",
        "avg_units.sort_values(by = 'Average Unit per Customer', ascending = False).head()"
      ],
      "execution_count": null,
      "outputs": [
        {
          "output_type": "execute_result",
          "data": {
            "text/html": [
              "<div>\n",
              "<style scoped>\n",
              "    .dataframe tbody tr th:only-of-type {\n",
              "        vertical-align: middle;\n",
              "    }\n",
              "\n",
              "    .dataframe tbody tr th {\n",
              "        vertical-align: top;\n",
              "    }\n",
              "\n",
              "    .dataframe thead th {\n",
              "        text-align: right;\n",
              "    }\n",
              "</style>\n",
              "<table border=\"1\" class=\"dataframe\">\n",
              "  <thead>\n",
              "    <tr style=\"text-align: right;\">\n",
              "      <th></th>\n",
              "      <th></th>\n",
              "      <th>Average Unit per Customer</th>\n",
              "    </tr>\n",
              "    <tr>\n",
              "      <th>PREMIUM_CUSTOMER</th>\n",
              "      <th>LIFESTAGE</th>\n",
              "      <th></th>\n",
              "    </tr>\n",
              "  </thead>\n",
              "  <tbody>\n",
              "    <tr>\n",
              "      <th>Mainstream</th>\n",
              "      <th>OLDER FAMILIES</th>\n",
              "      <td>9.804309</td>\n",
              "    </tr>\n",
              "    <tr>\n",
              "      <th>Budget</th>\n",
              "      <th>OLDER FAMILIES</th>\n",
              "      <td>9.639572</td>\n",
              "    </tr>\n",
              "    <tr>\n",
              "      <th>Premium</th>\n",
              "      <th>OLDER FAMILIES</th>\n",
              "      <td>9.578091</td>\n",
              "    </tr>\n",
              "    <tr>\n",
              "      <th>Budget</th>\n",
              "      <th>YOUNG FAMILIES</th>\n",
              "      <td>9.238486</td>\n",
              "    </tr>\n",
              "    <tr>\n",
              "      <th>Premium</th>\n",
              "      <th>YOUNG FAMILIES</th>\n",
              "      <td>9.209207</td>\n",
              "    </tr>\n",
              "  </tbody>\n",
              "</table>\n",
              "</div>"
            ],
            "text/plain": [
              "                                 Average Unit per Customer\n",
              "PREMIUM_CUSTOMER LIFESTAGE                                \n",
              "Mainstream       OLDER FAMILIES                   9.804309\n",
              "Budget           OLDER FAMILIES                   9.639572\n",
              "Premium          OLDER FAMILIES                   9.578091\n",
              "Budget           YOUNG FAMILIES                   9.238486\n",
              "Premium          YOUNG FAMILIES                   9.209207"
            ]
          },
          "metadata": {
            "tags": []
          },
          "execution_count": 69
        }
      ]
    },
    {
      "cell_type": "code",
      "metadata": {
        "id": "eXt8ccThgZzO",
        "colab": {
          "base_uri": "https://localhost:8080/",
          "height": 600
        },
        "outputId": "5fc0e208-faba-44a2-be55-b3d20ba6820a"
      },
      "source": [
        "# Visualise \n",
        "\n",
        "avgUnitsPlot = pd.DataFrame(combinedata.groupby(['LIFESTAGE', 'PREMIUM_CUSTOMER']).PROD_QTY.sum() / combinedata.groupby(['LIFESTAGE', 'PREMIUM_CUSTOMER']).LYLTY_CARD_NBR.nunique())\n",
        "avgUnitsPlot.unstack().plot(kind = 'bar', figsize = (12, 7), title = 'Average Unit by Customer Segment')\n",
        "plt.ylabel('Average Number of Units')\n",
        "plt.legend(['Budget', 'Mainstream', 'Premium'], loc = 2)"
      ],
      "execution_count": null,
      "outputs": [
        {
          "output_type": "execute_result",
          "data": {
            "text/plain": [
              "<matplotlib.legend.Legend at 0x7fd218907dd8>"
            ]
          },
          "metadata": {
            "tags": []
          },
          "execution_count": 70
        },
        {
          "output_type": "display_data",
          "data": {
            "image/png": "[encoded data removed]",
            "text/plain": [
              "<Figure size 864x504 with 1 Axes>"
            ]
          },
          "metadata": {
            "tags": [],
            "needs_background": "light"
          }
        }
      ]
    },
    {
      "cell_type": "markdown",
      "metadata": {
        "id": "JkH7fzzChCKk"
      },
      "source": [
        "***Older families and young families buy more chips per customer.***"
      ]
    },
    {
      "cell_type": "code",
      "metadata": {
        "id": "5zjeVY0KOkWo",
        "colab": {
          "base_uri": "https://localhost:8080/",
          "height": 235
        },
        "outputId": "b884ce15-bd09-427d-e645-e7923f9d6549"
      },
      "source": [
        "# Average price per unit by PREMIUM_CUSTOMER and LIFESTAGE\n",
        "\n",
        "avg_price = combinedata.groupby(['PREMIUM_CUSTOMER', 'LIFESTAGE']).TOT_SALES.sum() / combinedata.groupby(['PREMIUM_CUSTOMER', 'LIFESTAGE']).PROD_QTY.sum()\n",
        "avg_price = pd.DataFrame(avg_price, columns = {'Price per Unit'})\n",
        "avg_price.sort_values(by = 'Price per Unit', ascending = False).head()"
      ],
      "execution_count": null,
      "outputs": [
        {
          "output_type": "execute_result",
          "data": {
            "text/html": [
              "<div>\n",
              "<style scoped>\n",
              "    .dataframe tbody tr th:only-of-type {\n",
              "        vertical-align: middle;\n",
              "    }\n",
              "\n",
              "    .dataframe tbody tr th {\n",
              "        vertical-align: top;\n",
              "    }\n",
              "\n",
              "    .dataframe thead th {\n",
              "        text-align: right;\n",
              "    }\n",
              "</style>\n",
              "<table border=\"1\" class=\"dataframe\">\n",
              "  <thead>\n",
              "    <tr style=\"text-align: right;\">\n",
              "      <th></th>\n",
              "      <th></th>\n",
              "      <th>Price per Unit</th>\n",
              "    </tr>\n",
              "    <tr>\n",
              "      <th>PREMIUM_CUSTOMER</th>\n",
              "      <th>LIFESTAGE</th>\n",
              "      <th></th>\n",
              "    </tr>\n",
              "  </thead>\n",
              "  <tbody>\n",
              "    <tr>\n",
              "      <th rowspan=\"3\" valign=\"top\">Mainstream</th>\n",
              "      <th>YOUNG SINGLES/COUPLES</th>\n",
              "      <td>4.080079</td>\n",
              "    </tr>\n",
              "    <tr>\n",
              "      <th>MIDAGE SINGLES/COUPLES</th>\n",
              "      <td>4.000346</td>\n",
              "    </tr>\n",
              "    <tr>\n",
              "      <th>NEW FAMILIES</th>\n",
              "      <td>3.939315</td>\n",
              "    </tr>\n",
              "    <tr>\n",
              "      <th rowspan=\"2\" valign=\"top\">Budget</th>\n",
              "      <th>NEW FAMILIES</th>\n",
              "      <td>3.936178</td>\n",
              "    </tr>\n",
              "    <tr>\n",
              "      <th>RETIREES</th>\n",
              "      <td>3.933660</td>\n",
              "    </tr>\n",
              "  </tbody>\n",
              "</table>\n",
              "</div>"
            ],
            "text/plain": [
              "                                         Price per Unit\n",
              "PREMIUM_CUSTOMER LIFESTAGE                             \n",
              "Mainstream       YOUNG SINGLES/COUPLES         4.080079\n",
              "                 MIDAGE SINGLES/COUPLES        4.000346\n",
              "                 NEW FAMILIES                  3.939315\n",
              "Budget           NEW FAMILIES                  3.936178\n",
              "                 RETIREES                      3.933660"
            ]
          },
          "metadata": {
            "tags": []
          },
          "execution_count": 71
        }
      ]
    },
    {
      "cell_type": "code",
      "metadata": {
        "id": "09tsdi1TPP9V",
        "colab": {
          "base_uri": "https://localhost:8080/",
          "height": 600
        },
        "outputId": "cdc6e478-8a06-4d0c-e31b-b9f96218fc3c"
      },
      "source": [
        "#visualize\n",
        "\n",
        "avgPricePlot = pd.DataFrame(combinedata.groupby(['LIFESTAGE', 'PREMIUM_CUSTOMER']).TOT_SALES.sum() / combinedata.groupby(['LIFESTAGE', 'PREMIUM_CUSTOMER']).PROD_QTY.sum())\n",
        "avgPricePlot.unstack().plot(kind = 'bar', figsize = (12, 7), title = 'Average Price by Customer Segment', ylim = (0, 6))\n",
        "plt.ylabel('Average Price')\n",
        "plt.legend(['Budget', 'Mainstream', 'Premium'], loc = 2)"
      ],
      "execution_count": null,
      "outputs": [
        {
          "output_type": "execute_result",
          "data": {
            "text/plain": [
              "<matplotlib.legend.Legend at 0x7fd2188c1390>"
            ]
          },
          "metadata": {
            "tags": []
          },
          "execution_count": 72
        },
        {
          "output_type": "display_data",
          "data": {
            "image/png": "[encoded data removed]",
            "text/plain": [
              "<Figure size 864x504 with 1 Axes>"
            ]
          },
          "metadata": {
            "tags": [],
            "needs_background": "light"
          }
        }
      ]
    },
    {
      "cell_type": "markdown",
      "metadata": {
        "id": "6ZgDq5wZQAgJ"
      },
      "source": [
        "***Mainstream midage and young singles and couples are more willing to pay more per packet of chips compared to their budget and premium counterparts. This may be due to premium shoppers being more likely to buy healthy snacks and when they do buy chips, it is mainly for entertainment purposes rather than their own consumption. This is also supported by there being fewer premium midage and young singles and couples buying chips compared to their mainstream counterparts.***"
      ]
    },
    {
      "cell_type": "code",
      "metadata": {
        "id": "GUK34e_FQKX8",
        "colab": {
          "base_uri": "https://localhost:8080/",
          "height": 411
        },
        "outputId": "845d9cd5-60b4-4788-f653-0af54d3fc135"
      },
      "source": [
        "#we might want to target customers segments that contribute the most to sales to retain them to further increase sales. \n",
        "#Let's examine mainstream young singles/couples against the rest of the cutomer segments to see if they \n",
        "#prefer any particular brand of chips.\n",
        "target = combinedata.loc[(combinedata['LIFESTAGE'] == 'YOUNG SINGLES/COUPLES') & (combinedata['PREMIUM_CUSTOMER'] == 'Mainstream'), :]\n",
        "nonTarget = combinedata.loc[(combinedata['LIFESTAGE'] != 'YOUNG SINGLES/COUPLES' ) & (combinedata['PREMIUM_CUSTOMER'] != 'Mainstream'), :]\n",
        "target.head()"
      ],
      "execution_count": null,
      "outputs": [
        {
          "output_type": "execute_result",
          "data": {
            "text/html": [
              "<div>\n",
              "<style scoped>\n",
              "    .dataframe tbody tr th:only-of-type {\n",
              "        vertical-align: middle;\n",
              "    }\n",
              "\n",
              "    .dataframe tbody tr th {\n",
              "        vertical-align: top;\n",
              "    }\n",
              "\n",
              "    .dataframe thead th {\n",
              "        text-align: right;\n",
              "    }\n",
              "</style>\n",
              "<table border=\"1\" class=\"dataframe\">\n",
              "  <thead>\n",
              "    <tr style=\"text-align: right;\">\n",
              "      <th></th>\n",
              "      <th>DATE</th>\n",
              "      <th>STORE_NBR</th>\n",
              "      <th>LYLTY_CARD_NBR</th>\n",
              "      <th>TXN_ID</th>\n",
              "      <th>PROD_NBR</th>\n",
              "      <th>PROD_NAME</th>\n",
              "      <th>PROD_QTY</th>\n",
              "      <th>TOT_SALES</th>\n",
              "      <th>PACK_SIZE</th>\n",
              "      <th>BRAND</th>\n",
              "      <th>LIFESTAGE</th>\n",
              "      <th>PREMIUM_CUSTOMER</th>\n",
              "    </tr>\n",
              "  </thead>\n",
              "  <tbody>\n",
              "    <tr>\n",
              "      <th>237700</th>\n",
              "      <td>2018-08-16</td>\n",
              "      <td>1</td>\n",
              "      <td>1020</td>\n",
              "      <td>26</td>\n",
              "      <td>19</td>\n",
              "      <td>Smiths Crinkle Cut  Snag Sauce</td>\n",
              "      <td>1</td>\n",
              "      <td>2.6</td>\n",
              "      <td>150</td>\n",
              "      <td>Smiths</td>\n",
              "      <td>YOUNG SINGLES/COUPLES</td>\n",
              "      <td>Mainstream</td>\n",
              "    </tr>\n",
              "    <tr>\n",
              "      <th>237701</th>\n",
              "      <td>2018-10-02</td>\n",
              "      <td>1</td>\n",
              "      <td>1020</td>\n",
              "      <td>27</td>\n",
              "      <td>7</td>\n",
              "      <td>Smiths Crinkle      Original</td>\n",
              "      <td>1</td>\n",
              "      <td>5.7</td>\n",
              "      <td>330</td>\n",
              "      <td>Smiths</td>\n",
              "      <td>YOUNG SINGLES/COUPLES</td>\n",
              "      <td>Mainstream</td>\n",
              "    </tr>\n",
              "    <tr>\n",
              "      <th>237702</th>\n",
              "      <td>2019-05-02</td>\n",
              "      <td>1</td>\n",
              "      <td>1020</td>\n",
              "      <td>28</td>\n",
              "      <td>84</td>\n",
              "      <td>GrnWves Plus Btroot   Chilli Jam</td>\n",
              "      <td>1</td>\n",
              "      <td>3.1</td>\n",
              "      <td>180</td>\n",
              "      <td>GrnWves</td>\n",
              "      <td>YOUNG SINGLES/COUPLES</td>\n",
              "      <td>Mainstream</td>\n",
              "    </tr>\n",
              "    <tr>\n",
              "      <th>237703</th>\n",
              "      <td>2018-08-17</td>\n",
              "      <td>1</td>\n",
              "      <td>1163</td>\n",
              "      <td>188</td>\n",
              "      <td>46</td>\n",
              "      <td>Kettle Original</td>\n",
              "      <td>1</td>\n",
              "      <td>5.4</td>\n",
              "      <td>175</td>\n",
              "      <td>Kettle</td>\n",
              "      <td>YOUNG SINGLES/COUPLES</td>\n",
              "      <td>Mainstream</td>\n",
              "    </tr>\n",
              "    <tr>\n",
              "      <th>237704</th>\n",
              "      <td>2019-02-07</td>\n",
              "      <td>1</td>\n",
              "      <td>1163</td>\n",
              "      <td>189</td>\n",
              "      <td>12</td>\n",
              "      <td>Natural Chip Co     Tmato Hrb Spce</td>\n",
              "      <td>1</td>\n",
              "      <td>3.0</td>\n",
              "      <td>175</td>\n",
              "      <td>Natural</td>\n",
              "      <td>YOUNG SINGLES/COUPLES</td>\n",
              "      <td>Mainstream</td>\n",
              "    </tr>\n",
              "  </tbody>\n",
              "</table>\n",
              "</div>"
            ],
            "text/plain": [
              "             DATE  STORE_NBR  ...              LIFESTAGE  PREMIUM_CUSTOMER\n",
              "237700 2018-08-16          1  ...  YOUNG SINGLES/COUPLES        Mainstream\n",
              "237701 2018-10-02          1  ...  YOUNG SINGLES/COUPLES        Mainstream\n",
              "237702 2019-05-02          1  ...  YOUNG SINGLES/COUPLES        Mainstream\n",
              "237703 2018-08-17          1  ...  YOUNG SINGLES/COUPLES        Mainstream\n",
              "237704 2019-02-07          1  ...  YOUNG SINGLES/COUPLES        Mainstream\n",
              "\n",
              "[5 rows x 12 columns]"
            ]
          },
          "metadata": {
            "tags": []
          },
          "execution_count": 73
        }
      ]
    },
    {
      "cell_type": "markdown",
      "metadata": {
        "id": "74Y5hpggSC-x"
      },
      "source": [
        " ***Affinity to Brand***"
      ]
    },
    {
      "cell_type": "code",
      "metadata": {
        "id": "iHK-03SXSBa9"
      },
      "source": [
        "# Target Segment\n",
        "targetBrand = target.loc[:, ['BRAND', 'PROD_QTY']]\n",
        "targetSum = targetBrand['PROD_QTY'].sum()\n",
        "targetBrand['Target Brand Affinity'] = targetBrand['PROD_QTY'] / targetSum\n",
        "targetBrand = pd.DataFrame(targetBrand.groupby('BRAND')['Target Brand Affinity'].sum())\n",
        "\n",
        "# Non-target segment\n",
        "nonTargetBrand = nonTarget.loc[:, ['BRAND', 'PROD_QTY']]\n",
        "nonTargetSum = nonTargetBrand['PROD_QTY'].sum()\n",
        "nonTargetBrand['Non-Target Brand Affinity'] = nonTargetBrand['PROD_QTY'] / nonTargetSum\n",
        "nonTargetBrand = pd.DataFrame(nonTargetBrand.groupby('BRAND')['Non-Target Brand Affinity'].sum())"
      ],
      "execution_count": null,
      "outputs": []
    },
    {
      "cell_type": "code",
      "metadata": {
        "id": "2MGQaAytT0C6",
        "colab": {
          "base_uri": "https://localhost:8080/",
          "height": 235
        },
        "outputId": "af7594ce-9537-42b4-ae24-99d52ec58976"
      },
      "source": [
        "# Merge the two dataframes together\n",
        "\n",
        "brand_proportions = pd.merge(targetBrand, nonTargetBrand, left_index = True, right_index = True)\n",
        "brand_proportions.head()"
      ],
      "execution_count": null,
      "outputs": [
        {
          "output_type": "execute_result",
          "data": {
            "text/html": [
              "<div>\n",
              "<style scoped>\n",
              "    .dataframe tbody tr th:only-of-type {\n",
              "        vertical-align: middle;\n",
              "    }\n",
              "\n",
              "    .dataframe tbody tr th {\n",
              "        vertical-align: top;\n",
              "    }\n",
              "\n",
              "    .dataframe thead th {\n",
              "        text-align: right;\n",
              "    }\n",
              "</style>\n",
              "<table border=\"1\" class=\"dataframe\">\n",
              "  <thead>\n",
              "    <tr style=\"text-align: right;\">\n",
              "      <th></th>\n",
              "      <th>Target Brand Affinity</th>\n",
              "      <th>Non-Target Brand Affinity</th>\n",
              "    </tr>\n",
              "    <tr>\n",
              "      <th>BRAND</th>\n",
              "      <th></th>\n",
              "      <th></th>\n",
              "    </tr>\n",
              "  </thead>\n",
              "  <tbody>\n",
              "    <tr>\n",
              "      <th>Burger</th>\n",
              "      <td>0.002744</td>\n",
              "      <td>0.006094</td>\n",
              "    </tr>\n",
              "    <tr>\n",
              "      <th>CCs</th>\n",
              "      <td>0.010484</td>\n",
              "      <td>0.017191</td>\n",
              "    </tr>\n",
              "    <tr>\n",
              "      <th>Cheetos</th>\n",
              "      <td>0.007533</td>\n",
              "      <td>0.010960</td>\n",
              "    </tr>\n",
              "    <tr>\n",
              "      <th>Cheezels</th>\n",
              "      <td>0.016851</td>\n",
              "      <td>0.017619</td>\n",
              "    </tr>\n",
              "    <tr>\n",
              "      <th>Cobs</th>\n",
              "      <td>0.041856</td>\n",
              "      <td>0.035836</td>\n",
              "    </tr>\n",
              "  </tbody>\n",
              "</table>\n",
              "</div>"
            ],
            "text/plain": [
              "          Target Brand Affinity  Non-Target Brand Affinity\n",
              "BRAND                                                     \n",
              "Burger                 0.002744                   0.006094\n",
              "CCs                    0.010484                   0.017191\n",
              "Cheetos                0.007533                   0.010960\n",
              "Cheezels               0.016851                   0.017619\n",
              "Cobs                   0.041856                   0.035836"
            ]
          },
          "metadata": {
            "tags": []
          },
          "execution_count": 75
        }
      ]
    },
    {
      "cell_type": "code",
      "metadata": {
        "id": "w0diwuSTUCRZ",
        "colab": {
          "base_uri": "https://localhost:8080/",
          "height": 855
        },
        "outputId": "e009970b-2d17-48d3-a4f3-d5d40595e371"
      },
      "source": [
        "brand_proportions['Affinity to Brand'] = brand_proportions['Target Brand Affinity'] / brand_proportions['Non-Target Brand Affinity']\n",
        "brand_proportions.sort_values(by = 'Affinity to Brand', ascending = False)"
      ],
      "execution_count": null,
      "outputs": [
        {
          "output_type": "execute_result",
          "data": {
            "text/html": [
              "<div>\n",
              "<style scoped>\n",
              "    .dataframe tbody tr th:only-of-type {\n",
              "        vertical-align: middle;\n",
              "    }\n",
              "\n",
              "    .dataframe tbody tr th {\n",
              "        vertical-align: top;\n",
              "    }\n",
              "\n",
              "    .dataframe thead th {\n",
              "        text-align: right;\n",
              "    }\n",
              "</style>\n",
              "<table border=\"1\" class=\"dataframe\">\n",
              "  <thead>\n",
              "    <tr style=\"text-align: right;\">\n",
              "      <th></th>\n",
              "      <th>Target Brand Affinity</th>\n",
              "      <th>Non-Target Brand Affinity</th>\n",
              "      <th>Affinity to Brand</th>\n",
              "    </tr>\n",
              "    <tr>\n",
              "      <th>BRAND</th>\n",
              "      <th></th>\n",
              "      <th></th>\n",
              "      <th></th>\n",
              "    </tr>\n",
              "  </thead>\n",
              "  <tbody>\n",
              "    <tr>\n",
              "      <th>Tyrrells</th>\n",
              "      <td>0.029587</td>\n",
              "      <td>0.023968</td>\n",
              "      <td>1.234454</td>\n",
              "    </tr>\n",
              "    <tr>\n",
              "      <th>Twisties</th>\n",
              "      <td>0.043306</td>\n",
              "      <td>0.035355</td>\n",
              "      <td>1.224877</td>\n",
              "    </tr>\n",
              "    <tr>\n",
              "      <th>Kettle</th>\n",
              "      <td>0.185649</td>\n",
              "      <td>0.155243</td>\n",
              "      <td>1.195863</td>\n",
              "    </tr>\n",
              "    <tr>\n",
              "      <th>Tostitos</th>\n",
              "      <td>0.042581</td>\n",
              "      <td>0.035744</td>\n",
              "      <td>1.191269</td>\n",
              "    </tr>\n",
              "    <tr>\n",
              "      <th>Old</th>\n",
              "      <td>0.041598</td>\n",
              "      <td>0.034931</td>\n",
              "      <td>1.190850</td>\n",
              "    </tr>\n",
              "    <tr>\n",
              "      <th>Pringles</th>\n",
              "      <td>0.111980</td>\n",
              "      <td>0.094240</td>\n",
              "      <td>1.188241</td>\n",
              "    </tr>\n",
              "    <tr>\n",
              "      <th>Grainwaves</th>\n",
              "      <td>0.027309</td>\n",
              "      <td>0.023200</td>\n",
              "      <td>1.177104</td>\n",
              "    </tr>\n",
              "    <tr>\n",
              "      <th>Cobs</th>\n",
              "      <td>0.041856</td>\n",
              "      <td>0.035836</td>\n",
              "      <td>1.167987</td>\n",
              "    </tr>\n",
              "    <tr>\n",
              "      <th>Doritos</th>\n",
              "      <td>0.122877</td>\n",
              "      <td>0.105278</td>\n",
              "      <td>1.167174</td>\n",
              "    </tr>\n",
              "    <tr>\n",
              "      <th>Infuzions</th>\n",
              "      <td>0.060649</td>\n",
              "      <td>0.053509</td>\n",
              "      <td>1.133443</td>\n",
              "    </tr>\n",
              "    <tr>\n",
              "      <th>Thins</th>\n",
              "      <td>0.056611</td>\n",
              "      <td>0.053275</td>\n",
              "      <td>1.062612</td>\n",
              "    </tr>\n",
              "    <tr>\n",
              "      <th>Cheezels</th>\n",
              "      <td>0.016851</td>\n",
              "      <td>0.017619</td>\n",
              "      <td>0.956409</td>\n",
              "    </tr>\n",
              "    <tr>\n",
              "      <th>Smiths</th>\n",
              "      <td>0.093420</td>\n",
              "      <td>0.121327</td>\n",
              "      <td>0.769986</td>\n",
              "    </tr>\n",
              "    <tr>\n",
              "      <th>French</th>\n",
              "      <td>0.003702</td>\n",
              "      <td>0.005319</td>\n",
              "      <td>0.695912</td>\n",
              "    </tr>\n",
              "    <tr>\n",
              "      <th>Cheetos</th>\n",
              "      <td>0.007533</td>\n",
              "      <td>0.010960</td>\n",
              "      <td>0.687286</td>\n",
              "    </tr>\n",
              "    <tr>\n",
              "      <th>Red Rock Deli</th>\n",
              "      <td>0.015350</td>\n",
              "      <td>0.022737</td>\n",
              "      <td>0.675115</td>\n",
              "    </tr>\n",
              "    <tr>\n",
              "      <th>RRD</th>\n",
              "      <td>0.030027</td>\n",
              "      <td>0.045573</td>\n",
              "      <td>0.658880</td>\n",
              "    </tr>\n",
              "    <tr>\n",
              "      <th>Natural</th>\n",
              "      <td>0.014962</td>\n",
              "      <td>0.023207</td>\n",
              "      <td>0.644700</td>\n",
              "    </tr>\n",
              "    <tr>\n",
              "      <th>CCs</th>\n",
              "      <td>0.010484</td>\n",
              "      <td>0.017191</td>\n",
              "      <td>0.609811</td>\n",
              "    </tr>\n",
              "    <tr>\n",
              "      <th>NCC</th>\n",
              "      <td>0.003417</td>\n",
              "      <td>0.005648</td>\n",
              "      <td>0.604972</td>\n",
              "    </tr>\n",
              "    <tr>\n",
              "      <th>GrnWves</th>\n",
              "      <td>0.003365</td>\n",
              "      <td>0.005758</td>\n",
              "      <td>0.584460</td>\n",
              "    </tr>\n",
              "    <tr>\n",
              "      <th>Sunbites</th>\n",
              "      <td>0.005954</td>\n",
              "      <td>0.011756</td>\n",
              "      <td>0.506446</td>\n",
              "    </tr>\n",
              "    <tr>\n",
              "      <th>WW</th>\n",
              "      <td>0.019932</td>\n",
              "      <td>0.039759</td>\n",
              "      <td>0.501318</td>\n",
              "    </tr>\n",
              "    <tr>\n",
              "      <th>Woolworths</th>\n",
              "      <td>0.008257</td>\n",
              "      <td>0.016474</td>\n",
              "      <td>0.501253</td>\n",
              "    </tr>\n",
              "    <tr>\n",
              "      <th>Burger</th>\n",
              "      <td>0.002744</td>\n",
              "      <td>0.006094</td>\n",
              "      <td>0.450284</td>\n",
              "    </tr>\n",
              "  </tbody>\n",
              "</table>\n",
              "</div>"
            ],
            "text/plain": [
              "               Target Brand Affinity  ...  Affinity to Brand\n",
              "BRAND                                 ...                   \n",
              "Tyrrells                    0.029587  ...           1.234454\n",
              "Twisties                    0.043306  ...           1.224877\n",
              "Kettle                      0.185649  ...           1.195863\n",
              "Tostitos                    0.042581  ...           1.191269\n",
              "Old                         0.041598  ...           1.190850\n",
              "Pringles                    0.111980  ...           1.188241\n",
              "Grainwaves                  0.027309  ...           1.177104\n",
              "Cobs                        0.041856  ...           1.167987\n",
              "Doritos                     0.122877  ...           1.167174\n",
              "Infuzions                   0.060649  ...           1.133443\n",
              "Thins                       0.056611  ...           1.062612\n",
              "Cheezels                    0.016851  ...           0.956409\n",
              "Smiths                      0.093420  ...           0.769986\n",
              "French                      0.003702  ...           0.695912\n",
              "Cheetos                     0.007533  ...           0.687286\n",
              "Red Rock Deli               0.015350  ...           0.675115\n",
              "RRD                         0.030027  ...           0.658880\n",
              "Natural                     0.014962  ...           0.644700\n",
              "CCs                         0.010484  ...           0.609811\n",
              "NCC                         0.003417  ...           0.604972\n",
              "GrnWves                     0.003365  ...           0.584460\n",
              "Sunbites                    0.005954  ...           0.506446\n",
              "WW                          0.019932  ...           0.501318\n",
              "Woolworths                  0.008257  ...           0.501253\n",
              "Burger                      0.002744  ...           0.450284\n",
              "\n",
              "[25 rows x 3 columns]"
            ]
          },
          "metadata": {
            "tags": []
          },
          "execution_count": 76
        }
      ]
    },
    {
      "cell_type": "markdown",
      "metadata": {
        "id": "bvCJE1UYURHG"
      },
      "source": [
        "***Mainstream young singles/couples are more likely to purchase Tyrrells chips compared to other brands.***"
      ]
    },
    {
      "cell_type": "markdown",
      "metadata": {
        "id": "-mcC8eLoUTK_"
      },
      "source": [
        " ***Affinity to pack size***"
      ]
    },
    {
      "cell_type": "code",
      "metadata": {
        "id": "GD2rcM1HUcYh"
      },
      "source": [
        "# Target segment \n",
        "targetSize = target.loc[:, ['PACK_SIZE', 'PROD_QTY']]\n",
        "targetSum = targetSize['PROD_QTY'].sum()\n",
        "targetSize['Target Pack Affinity'] = targetSize['PROD_QTY'] / targetSum\n",
        "targetSize = pd.DataFrame(targetSize.groupby('PACK_SIZE')['Target Pack Affinity'].sum())\n",
        "\n",
        "# Non-target segment\n",
        "nonTargetSize = nonTarget.loc[:, ['PACK_SIZE', 'PROD_QTY']]\n",
        "nonTargetSum = nonTargetSize['PROD_QTY'].sum()\n",
        "nonTargetSize['Non-Target Pack Affinity'] = nonTargetSize['PROD_QTY'] / nonTargetSum\n",
        "nonTargetSize = pd.DataFrame(nonTargetSize.groupby('PACK_SIZE')['Non-Target Pack Affinity'].sum())"
      ],
      "execution_count": null,
      "outputs": []
    },
    {
      "cell_type": "code",
      "metadata": {
        "id": "nhXulOxPUpYF",
        "colab": {
          "base_uri": "https://localhost:8080/",
          "height": 235
        },
        "outputId": "6dd595cf-3fb1-462f-8af7-3c4b8b5a8ccd"
      },
      "source": [
        "# Merge the two dataframes together\n",
        "\n",
        "pack_proportions = pd.merge(targetSize, nonTargetSize, left_index = True, right_index = True)\n",
        "pack_proportions.head()"
      ],
      "execution_count": null,
      "outputs": [
        {
          "output_type": "execute_result",
          "data": {
            "text/html": [
              "<div>\n",
              "<style scoped>\n",
              "    .dataframe tbody tr th:only-of-type {\n",
              "        vertical-align: middle;\n",
              "    }\n",
              "\n",
              "    .dataframe tbody tr th {\n",
              "        vertical-align: top;\n",
              "    }\n",
              "\n",
              "    .dataframe thead th {\n",
              "        text-align: right;\n",
              "    }\n",
              "</style>\n",
              "<table border=\"1\" class=\"dataframe\">\n",
              "  <thead>\n",
              "    <tr style=\"text-align: right;\">\n",
              "      <th></th>\n",
              "      <th>Target Pack Affinity</th>\n",
              "      <th>Non-Target Pack Affinity</th>\n",
              "    </tr>\n",
              "    <tr>\n",
              "      <th>PACK_SIZE</th>\n",
              "      <th></th>\n",
              "      <th></th>\n",
              "    </tr>\n",
              "  </thead>\n",
              "  <tbody>\n",
              "    <tr>\n",
              "      <th>70</th>\n",
              "      <td>0.002847</td>\n",
              "      <td>0.005857</td>\n",
              "    </tr>\n",
              "    <tr>\n",
              "      <th>90</th>\n",
              "      <td>0.005954</td>\n",
              "      <td>0.011756</td>\n",
              "    </tr>\n",
              "    <tr>\n",
              "      <th>110</th>\n",
              "      <td>0.099658</td>\n",
              "      <td>0.083489</td>\n",
              "    </tr>\n",
              "    <tr>\n",
              "      <th>125</th>\n",
              "      <td>0.002821</td>\n",
              "      <td>0.005570</td>\n",
              "    </tr>\n",
              "    <tr>\n",
              "      <th>134</th>\n",
              "      <td>0.111980</td>\n",
              "      <td>0.094240</td>\n",
              "    </tr>\n",
              "  </tbody>\n",
              "</table>\n",
              "</div>"
            ],
            "text/plain": [
              "           Target Pack Affinity  Non-Target Pack Affinity\n",
              "PACK_SIZE                                                \n",
              "70                     0.002847                  0.005857\n",
              "90                     0.005954                  0.011756\n",
              "110                    0.099658                  0.083489\n",
              "125                    0.002821                  0.005570\n",
              "134                    0.111980                  0.094240"
            ]
          },
          "metadata": {
            "tags": []
          },
          "execution_count": 78
        }
      ]
    },
    {
      "cell_type": "code",
      "metadata": {
        "id": "KZpJka_sUyqt",
        "colab": {
          "base_uri": "https://localhost:8080/",
          "height": 731
        },
        "outputId": "1fbb6de9-e393-47cb-dbbf-2f67f6e733bf"
      },
      "source": [
        "pack_proportions['Affinity to Pack'] = pack_proportions['Target Pack Affinity'] / pack_proportions['Non-Target Pack Affinity']\n",
        "pack_proportions.sort_values(by = 'Affinity to Pack', ascending = False)"
      ],
      "execution_count": null,
      "outputs": [
        {
          "output_type": "execute_result",
          "data": {
            "text/html": [
              "<div>\n",
              "<style scoped>\n",
              "    .dataframe tbody tr th:only-of-type {\n",
              "        vertical-align: middle;\n",
              "    }\n",
              "\n",
              "    .dataframe tbody tr th {\n",
              "        vertical-align: top;\n",
              "    }\n",
              "\n",
              "    .dataframe thead th {\n",
              "        text-align: right;\n",
              "    }\n",
              "</style>\n",
              "<table border=\"1\" class=\"dataframe\">\n",
              "  <thead>\n",
              "    <tr style=\"text-align: right;\">\n",
              "      <th></th>\n",
              "      <th>Target Pack Affinity</th>\n",
              "      <th>Non-Target Pack Affinity</th>\n",
              "      <th>Affinity to Pack</th>\n",
              "    </tr>\n",
              "    <tr>\n",
              "      <th>PACK_SIZE</th>\n",
              "      <th></th>\n",
              "      <th></th>\n",
              "      <th></th>\n",
              "    </tr>\n",
              "  </thead>\n",
              "  <tbody>\n",
              "    <tr>\n",
              "      <th>270</th>\n",
              "      <td>0.029846</td>\n",
              "      <td>0.023366</td>\n",
              "      <td>1.277295</td>\n",
              "    </tr>\n",
              "    <tr>\n",
              "      <th>380</th>\n",
              "      <td>0.030156</td>\n",
              "      <td>0.023964</td>\n",
              "      <td>1.258400</td>\n",
              "    </tr>\n",
              "    <tr>\n",
              "      <th>330</th>\n",
              "      <td>0.057465</td>\n",
              "      <td>0.047511</td>\n",
              "      <td>1.209522</td>\n",
              "    </tr>\n",
              "    <tr>\n",
              "      <th>110</th>\n",
              "      <td>0.099658</td>\n",
              "      <td>0.083489</td>\n",
              "      <td>1.193675</td>\n",
              "    </tr>\n",
              "    <tr>\n",
              "      <th>134</th>\n",
              "      <td>0.111980</td>\n",
              "      <td>0.094240</td>\n",
              "      <td>1.188241</td>\n",
              "    </tr>\n",
              "    <tr>\n",
              "      <th>210</th>\n",
              "      <td>0.027309</td>\n",
              "      <td>0.023200</td>\n",
              "      <td>1.177104</td>\n",
              "    </tr>\n",
              "    <tr>\n",
              "      <th>135</th>\n",
              "      <td>0.013849</td>\n",
              "      <td>0.012053</td>\n",
              "      <td>1.149001</td>\n",
              "    </tr>\n",
              "    <tr>\n",
              "      <th>250</th>\n",
              "      <td>0.013460</td>\n",
              "      <td>0.011989</td>\n",
              "      <td>1.122716</td>\n",
              "    </tr>\n",
              "    <tr>\n",
              "      <th>170</th>\n",
              "      <td>0.075740</td>\n",
              "      <td>0.074888</td>\n",
              "      <td>1.011386</td>\n",
              "    </tr>\n",
              "    <tr>\n",
              "      <th>300</th>\n",
              "      <td>0.054954</td>\n",
              "      <td>0.056709</td>\n",
              "      <td>0.969052</td>\n",
              "    </tr>\n",
              "    <tr>\n",
              "      <th>150</th>\n",
              "      <td>0.155130</td>\n",
              "      <td>0.163228</td>\n",
              "      <td>0.950388</td>\n",
              "    </tr>\n",
              "    <tr>\n",
              "      <th>175</th>\n",
              "      <td>0.239102</td>\n",
              "      <td>0.253012</td>\n",
              "      <td>0.945022</td>\n",
              "    </tr>\n",
              "    <tr>\n",
              "      <th>165</th>\n",
              "      <td>0.052185</td>\n",
              "      <td>0.057403</td>\n",
              "      <td>0.909100</td>\n",
              "    </tr>\n",
              "    <tr>\n",
              "      <th>190</th>\n",
              "      <td>0.007015</td>\n",
              "      <td>0.011307</td>\n",
              "      <td>0.620430</td>\n",
              "    </tr>\n",
              "    <tr>\n",
              "      <th>180</th>\n",
              "      <td>0.003365</td>\n",
              "      <td>0.005758</td>\n",
              "      <td>0.584460</td>\n",
              "    </tr>\n",
              "    <tr>\n",
              "      <th>160</th>\n",
              "      <td>0.006005</td>\n",
              "      <td>0.011391</td>\n",
              "      <td>0.527185</td>\n",
              "    </tr>\n",
              "    <tr>\n",
              "      <th>125</th>\n",
              "      <td>0.002821</td>\n",
              "      <td>0.005570</td>\n",
              "      <td>0.506538</td>\n",
              "    </tr>\n",
              "    <tr>\n",
              "      <th>90</th>\n",
              "      <td>0.005954</td>\n",
              "      <td>0.011756</td>\n",
              "      <td>0.506446</td>\n",
              "    </tr>\n",
              "    <tr>\n",
              "      <th>200</th>\n",
              "      <td>0.008413</td>\n",
              "      <td>0.017216</td>\n",
              "      <td>0.488651</td>\n",
              "    </tr>\n",
              "    <tr>\n",
              "      <th>70</th>\n",
              "      <td>0.002847</td>\n",
              "      <td>0.005857</td>\n",
              "      <td>0.486182</td>\n",
              "    </tr>\n",
              "    <tr>\n",
              "      <th>220</th>\n",
              "      <td>0.002744</td>\n",
              "      <td>0.006094</td>\n",
              "      <td>0.450284</td>\n",
              "    </tr>\n",
              "  </tbody>\n",
              "</table>\n",
              "</div>"
            ],
            "text/plain": [
              "           Target Pack Affinity  Non-Target Pack Affinity  Affinity to Pack\n",
              "PACK_SIZE                                                                  \n",
              "270                    0.029846                  0.023366          1.277295\n",
              "380                    0.030156                  0.023964          1.258400\n",
              "330                    0.057465                  0.047511          1.209522\n",
              "110                    0.099658                  0.083489          1.193675\n",
              "134                    0.111980                  0.094240          1.188241\n",
              "210                    0.027309                  0.023200          1.177104\n",
              "135                    0.013849                  0.012053          1.149001\n",
              "250                    0.013460                  0.011989          1.122716\n",
              "170                    0.075740                  0.074888          1.011386\n",
              "300                    0.054954                  0.056709          0.969052\n",
              "150                    0.155130                  0.163228          0.950388\n",
              "175                    0.239102                  0.253012          0.945022\n",
              "165                    0.052185                  0.057403          0.909100\n",
              "190                    0.007015                  0.011307          0.620430\n",
              "180                    0.003365                  0.005758          0.584460\n",
              "160                    0.006005                  0.011391          0.527185\n",
              "125                    0.002821                  0.005570          0.506538\n",
              "90                     0.005954                  0.011756          0.506446\n",
              "200                    0.008413                  0.017216          0.488651\n",
              "70                     0.002847                  0.005857          0.486182\n",
              "220                    0.002744                  0.006094          0.450284"
            ]
          },
          "metadata": {
            "tags": []
          },
          "execution_count": 79
        }
      ]
    },
    {
      "cell_type": "markdown",
      "metadata": {
        "id": "J_eYeuySU-pJ"
      },
      "source": [
        "***It looks like mainstream singles/couples are more likely to purchase a 270g pack size compared to other pack sizes.***"
      ]
    },
    {
      "cell_type": "code",
      "metadata": {
        "id": "HVhrfPSbVANi",
        "colab": {
          "base_uri": "https://localhost:8080/",
          "height": 549
        },
        "outputId": "41f7090f-09de-40c7-a375-b12a85d7116c"
      },
      "source": [
        "# Which brand offers 270g pack size?\n",
        "\n",
        "combinedata.loc[combinedata['PACK_SIZE'] == 270, :].head(10)\n"
      ],
      "execution_count": null,
      "outputs": [
        {
          "output_type": "execute_result",
          "data": {
            "text/html": [
              "<div>\n",
              "<style scoped>\n",
              "    .dataframe tbody tr th:only-of-type {\n",
              "        vertical-align: middle;\n",
              "    }\n",
              "\n",
              "    .dataframe tbody tr th {\n",
              "        vertical-align: top;\n",
              "    }\n",
              "\n",
              "    .dataframe thead th {\n",
              "        text-align: right;\n",
              "    }\n",
              "</style>\n",
              "<table border=\"1\" class=\"dataframe\">\n",
              "  <thead>\n",
              "    <tr style=\"text-align: right;\">\n",
              "      <th></th>\n",
              "      <th>DATE</th>\n",
              "      <th>STORE_NBR</th>\n",
              "      <th>LYLTY_CARD_NBR</th>\n",
              "      <th>TXN_ID</th>\n",
              "      <th>PROD_NBR</th>\n",
              "      <th>PROD_NAME</th>\n",
              "      <th>PROD_QTY</th>\n",
              "      <th>TOT_SALES</th>\n",
              "      <th>PACK_SIZE</th>\n",
              "      <th>BRAND</th>\n",
              "      <th>LIFESTAGE</th>\n",
              "      <th>PREMIUM_CUSTOMER</th>\n",
              "    </tr>\n",
              "  </thead>\n",
              "  <tbody>\n",
              "    <tr>\n",
              "      <th>40</th>\n",
              "      <td>2019-05-18</td>\n",
              "      <td>9</td>\n",
              "      <td>9208</td>\n",
              "      <td>8634</td>\n",
              "      <td>15</td>\n",
              "      <td>Twisties Cheese</td>\n",
              "      <td>2</td>\n",
              "      <td>9.2</td>\n",
              "      <td>270</td>\n",
              "      <td>Twisties</td>\n",
              "      <td>MIDAGE SINGLES/COUPLES</td>\n",
              "      <td>Budget</td>\n",
              "    </tr>\n",
              "    <tr>\n",
              "      <th>96</th>\n",
              "      <td>2018-08-24</td>\n",
              "      <td>39</td>\n",
              "      <td>39167</td>\n",
              "      <td>35639</td>\n",
              "      <td>113</td>\n",
              "      <td>Twisties Chicken</td>\n",
              "      <td>2</td>\n",
              "      <td>9.2</td>\n",
              "      <td>270</td>\n",
              "      <td>Twisties</td>\n",
              "      <td>MIDAGE SINGLES/COUPLES</td>\n",
              "      <td>Budget</td>\n",
              "    </tr>\n",
              "    <tr>\n",
              "      <th>148</th>\n",
              "      <td>2019-05-06</td>\n",
              "      <td>54</td>\n",
              "      <td>54305</td>\n",
              "      <td>48304</td>\n",
              "      <td>15</td>\n",
              "      <td>Twisties Cheese</td>\n",
              "      <td>2</td>\n",
              "      <td>9.2</td>\n",
              "      <td>270</td>\n",
              "      <td>Twisties</td>\n",
              "      <td>MIDAGE SINGLES/COUPLES</td>\n",
              "      <td>Budget</td>\n",
              "    </tr>\n",
              "    <tr>\n",
              "      <th>155</th>\n",
              "      <td>2019-05-20</td>\n",
              "      <td>55</td>\n",
              "      <td>55073</td>\n",
              "      <td>48887</td>\n",
              "      <td>113</td>\n",
              "      <td>Twisties Chicken</td>\n",
              "      <td>1</td>\n",
              "      <td>4.6</td>\n",
              "      <td>270</td>\n",
              "      <td>Twisties</td>\n",
              "      <td>MIDAGE SINGLES/COUPLES</td>\n",
              "      <td>Budget</td>\n",
              "    </tr>\n",
              "    <tr>\n",
              "      <th>245</th>\n",
              "      <td>2019-01-01</td>\n",
              "      <td>80</td>\n",
              "      <td>80182</td>\n",
              "      <td>78980</td>\n",
              "      <td>15</td>\n",
              "      <td>Twisties Cheese</td>\n",
              "      <td>2</td>\n",
              "      <td>9.2</td>\n",
              "      <td>270</td>\n",
              "      <td>Twisties</td>\n",
              "      <td>MIDAGE SINGLES/COUPLES</td>\n",
              "      <td>Budget</td>\n",
              "    </tr>\n",
              "    <tr>\n",
              "      <th>293</th>\n",
              "      <td>2018-11-18</td>\n",
              "      <td>84</td>\n",
              "      <td>84096</td>\n",
              "      <td>83672</td>\n",
              "      <td>113</td>\n",
              "      <td>Twisties Chicken</td>\n",
              "      <td>2</td>\n",
              "      <td>9.2</td>\n",
              "      <td>270</td>\n",
              "      <td>Twisties</td>\n",
              "      <td>MIDAGE SINGLES/COUPLES</td>\n",
              "      <td>Budget</td>\n",
              "    </tr>\n",
              "    <tr>\n",
              "      <th>294</th>\n",
              "      <td>2019-05-20</td>\n",
              "      <td>88</td>\n",
              "      <td>88320</td>\n",
              "      <td>87811</td>\n",
              "      <td>113</td>\n",
              "      <td>Twisties Chicken</td>\n",
              "      <td>2</td>\n",
              "      <td>9.2</td>\n",
              "      <td>270</td>\n",
              "      <td>Twisties</td>\n",
              "      <td>MIDAGE SINGLES/COUPLES</td>\n",
              "      <td>Budget</td>\n",
              "    </tr>\n",
              "    <tr>\n",
              "      <th>339</th>\n",
              "      <td>2018-07-11</td>\n",
              "      <td>102</td>\n",
              "      <td>102115</td>\n",
              "      <td>102207</td>\n",
              "      <td>15</td>\n",
              "      <td>Twisties Cheese</td>\n",
              "      <td>2</td>\n",
              "      <td>9.2</td>\n",
              "      <td>270</td>\n",
              "      <td>Twisties</td>\n",
              "      <td>MIDAGE SINGLES/COUPLES</td>\n",
              "      <td>Budget</td>\n",
              "    </tr>\n",
              "    <tr>\n",
              "      <th>412</th>\n",
              "      <td>2019-04-05</td>\n",
              "      <td>118</td>\n",
              "      <td>118007</td>\n",
              "      <td>120735</td>\n",
              "      <td>113</td>\n",
              "      <td>Twisties Chicken</td>\n",
              "      <td>2</td>\n",
              "      <td>9.2</td>\n",
              "      <td>270</td>\n",
              "      <td>Twisties</td>\n",
              "      <td>MIDAGE SINGLES/COUPLES</td>\n",
              "      <td>Budget</td>\n",
              "    </tr>\n",
              "    <tr>\n",
              "      <th>415</th>\n",
              "      <td>2018-07-01</td>\n",
              "      <td>119</td>\n",
              "      <td>119051</td>\n",
              "      <td>122360</td>\n",
              "      <td>113</td>\n",
              "      <td>Twisties Chicken</td>\n",
              "      <td>2</td>\n",
              "      <td>9.2</td>\n",
              "      <td>270</td>\n",
              "      <td>Twisties</td>\n",
              "      <td>MIDAGE SINGLES/COUPLES</td>\n",
              "      <td>Budget</td>\n",
              "    </tr>\n",
              "  </tbody>\n",
              "</table>\n",
              "</div>"
            ],
            "text/plain": [
              "          DATE  STORE_NBR  ...               LIFESTAGE  PREMIUM_CUSTOMER\n",
              "40  2019-05-18          9  ...  MIDAGE SINGLES/COUPLES            Budget\n",
              "96  2018-08-24         39  ...  MIDAGE SINGLES/COUPLES            Budget\n",
              "148 2019-05-06         54  ...  MIDAGE SINGLES/COUPLES            Budget\n",
              "155 2019-05-20         55  ...  MIDAGE SINGLES/COUPLES            Budget\n",
              "245 2019-01-01         80  ...  MIDAGE SINGLES/COUPLES            Budget\n",
              "293 2018-11-18         84  ...  MIDAGE SINGLES/COUPLES            Budget\n",
              "294 2019-05-20         88  ...  MIDAGE SINGLES/COUPLES            Budget\n",
              "339 2018-07-11        102  ...  MIDAGE SINGLES/COUPLES            Budget\n",
              "412 2019-04-05        118  ...  MIDAGE SINGLES/COUPLES            Budget\n",
              "415 2018-07-01        119  ...  MIDAGE SINGLES/COUPLES            Budget\n",
              "\n",
              "[10 rows x 12 columns]"
            ]
          },
          "metadata": {
            "tags": []
          },
          "execution_count": 81
        }
      ]
    },
    {
      "cell_type": "code",
      "metadata": {
        "id": "7L234SzgVGjI",
        "colab": {
          "base_uri": "https://localhost:8080/"
        },
        "outputId": "707ca659-13e0-4d70-ede6-b486a0abab7d"
      },
      "source": [
        "# Is Twisties the only brand who sells 270g pack size?\n",
        "\n",
        "combinedata.loc[combinedata['PACK_SIZE'] == 270, 'BRAND'].unique()"
      ],
      "execution_count": null,
      "outputs": [
        {
          "output_type": "execute_result",
          "data": {
            "text/plain": [
              "array(['Twisties'], dtype=object)"
            ]
          },
          "metadata": {
            "tags": []
          },
          "execution_count": 83
        }
      ]
    },
    {
      "cell_type": "markdown",
      "metadata": {
        "id": "8pUU8J3KVV-C"
      },
      "source": [
        "***Twisties is the only brand that offers 270g pack size.***"
      ]
    },
    {
      "cell_type": "markdown",
      "metadata": {
        "id": "WYHWJU2_VcvP"
      },
      "source": [
        "# ***CONCLUSION***\n",
        "\n",
        "\n",
        "\n"
      ]
    },
    {
      "cell_type": "markdown",
      "metadata": {
        "id": "oknLI1e4QVdt"
      },
      "source": [
        "1. Sales are highest for (Budget, OLDER FAMILIES), (Mainstream, YOUNG SINGLES/COUPLES) and (Mainstream, RETIREES)\n",
        "2. We found that (Mainstream, YOUNG SINGLES/COUPLES) and (Mainstream, RETIREES) are mainly due to the fact that there are more customers in these segments\n",
        "3. (Mainstream, YOUNG SINGLES/COUPLES) are more likely to pay more per packet of chips than their premium and budget counterparts\n",
        "4. They are also more likely to purchase 'Tyrrells' and '270g' pack sizes than the rest of the population\n"
      ]
    }
  ]
}